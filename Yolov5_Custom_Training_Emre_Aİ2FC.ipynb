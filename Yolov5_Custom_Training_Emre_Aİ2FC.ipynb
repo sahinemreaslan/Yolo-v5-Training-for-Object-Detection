{
  "nbformat": 4,
  "nbformat_minor": 0,
  "metadata": {
    "colab": {
      "name": "Yolov5_Custom_Training_Emre_Aİ2FC.ipynb",
      "provenance": [],
      "collapsed_sections": [
        "mKZjNB8uyn8M",
        "JWZfRNFPNFvu"
      ]
    },
    "kernelspec": {
      "name": "python3",
      "display_name": "Python 3"
    },
    "language_info": {
      "name": "python"
    },
    "accelerator": "GPU"
  },
  "cells": [
    {
      "cell_type": "markdown",
      "source": [
        "#Requirements"
      ],
      "metadata": {
        "id": "mKZjNB8uyn8M"
      }
    },
    {
      "cell_type": "code",
      "execution_count": null,
      "metadata": {
        "colab": {
          "base_uri": "https://localhost:8080/"
        },
        "id": "eEg6zDWigREv",
        "outputId": "87498c0b-2ec1-4c3a-8781-530b6139957e"
      },
      "outputs": [
        {
          "output_type": "stream",
          "name": "stdout",
          "text": [
            "Cloning into 'yolov5'...\n",
            "remote: Enumerating objects: 11142, done.\u001b[K\n",
            "remote: Total 11142 (delta 0), reused 0 (delta 0), pack-reused 11142\u001b[K\n",
            "Receiving objects: 100% (11142/11142), 11.09 MiB | 24.91 MiB/s, done.\n",
            "Resolving deltas: 100% (7708/7708), done.\n"
          ]
        }
      ],
      "source": [
        "!git clone https://github.com/ultralytics/yolov5 #git reposunu colaba çekiyoruz."
      ]
    },
    {
      "cell_type": "markdown",
      "source": [
        ""
      ],
      "metadata": {
        "id": "WNP4WiXPM02O"
      }
    },
    {
      "cell_type": "code",
      "source": [
        "%cd /content/yolov5\n",
        "!pip install -r requirements.txt"
      ],
      "metadata": {
        "colab": {
          "base_uri": "https://localhost:8080/"
        },
        "id": "dCw8kGFygtCr",
        "outputId": "d65eab21-239a-4c67-a5f2-6bfcc4967227"
      },
      "execution_count": null,
      "outputs": [
        {
          "output_type": "stream",
          "name": "stdout",
          "text": [
            "/content/yolov5\n",
            "Requirement already satisfied: matplotlib>=3.2.2 in /usr/local/lib/python3.7/dist-packages (from -r requirements.txt (line 4)) (3.2.2)\n",
            "Requirement already satisfied: numpy>=1.18.5 in /usr/local/lib/python3.7/dist-packages (from -r requirements.txt (line 5)) (1.21.5)\n",
            "Requirement already satisfied: opencv-python>=4.1.2 in /usr/local/lib/python3.7/dist-packages (from -r requirements.txt (line 6)) (4.1.2.30)\n",
            "Requirement already satisfied: Pillow>=7.1.2 in /usr/local/lib/python3.7/dist-packages (from -r requirements.txt (line 7)) (7.1.2)\n",
            "Collecting PyYAML>=5.3.1\n",
            "  Downloading PyYAML-6.0-cp37-cp37m-manylinux_2_5_x86_64.manylinux1_x86_64.manylinux_2_12_x86_64.manylinux2010_x86_64.whl (596 kB)\n",
            "\u001b[K     |████████████████████████████████| 596 kB 5.3 MB/s \n",
            "\u001b[?25hRequirement already satisfied: requests>=2.23.0 in /usr/local/lib/python3.7/dist-packages (from -r requirements.txt (line 9)) (2.23.0)\n",
            "Requirement already satisfied: scipy>=1.4.1 in /usr/local/lib/python3.7/dist-packages (from -r requirements.txt (line 10)) (1.4.1)\n",
            "Requirement already satisfied: torch>=1.7.0 in /usr/local/lib/python3.7/dist-packages (from -r requirements.txt (line 11)) (1.10.0+cu111)\n",
            "Requirement already satisfied: torchvision>=0.8.1 in /usr/local/lib/python3.7/dist-packages (from -r requirements.txt (line 12)) (0.11.1+cu111)\n",
            "Requirement already satisfied: tqdm>=4.41.0 in /usr/local/lib/python3.7/dist-packages (from -r requirements.txt (line 13)) (4.62.3)\n",
            "Requirement already satisfied: tensorboard>=2.4.1 in /usr/local/lib/python3.7/dist-packages (from -r requirements.txt (line 16)) (2.8.0)\n",
            "Requirement already satisfied: pandas>=1.1.4 in /usr/local/lib/python3.7/dist-packages (from -r requirements.txt (line 20)) (1.3.5)\n",
            "Requirement already satisfied: seaborn>=0.11.0 in /usr/local/lib/python3.7/dist-packages (from -r requirements.txt (line 21)) (0.11.2)\n",
            "Collecting thop\n",
            "  Downloading thop-0.0.31.post2005241907-py3-none-any.whl (8.7 kB)\n",
            "Requirement already satisfied: python-dateutil>=2.1 in /usr/local/lib/python3.7/dist-packages (from matplotlib>=3.2.2->-r requirements.txt (line 4)) (2.8.2)\n",
            "Requirement already satisfied: cycler>=0.10 in /usr/local/lib/python3.7/dist-packages (from matplotlib>=3.2.2->-r requirements.txt (line 4)) (0.11.0)\n",
            "Requirement already satisfied: pyparsing!=2.0.4,!=2.1.2,!=2.1.6,>=2.0.1 in /usr/local/lib/python3.7/dist-packages (from matplotlib>=3.2.2->-r requirements.txt (line 4)) (3.0.7)\n",
            "Requirement already satisfied: kiwisolver>=1.0.1 in /usr/local/lib/python3.7/dist-packages (from matplotlib>=3.2.2->-r requirements.txt (line 4)) (1.3.2)\n",
            "Requirement already satisfied: urllib3!=1.25.0,!=1.25.1,<1.26,>=1.21.1 in /usr/local/lib/python3.7/dist-packages (from requests>=2.23.0->-r requirements.txt (line 9)) (1.24.3)\n",
            "Requirement already satisfied: chardet<4,>=3.0.2 in /usr/local/lib/python3.7/dist-packages (from requests>=2.23.0->-r requirements.txt (line 9)) (3.0.4)\n",
            "Requirement already satisfied: certifi>=2017.4.17 in /usr/local/lib/python3.7/dist-packages (from requests>=2.23.0->-r requirements.txt (line 9)) (2021.10.8)\n",
            "Requirement already satisfied: idna<3,>=2.5 in /usr/local/lib/python3.7/dist-packages (from requests>=2.23.0->-r requirements.txt (line 9)) (2.10)\n",
            "Requirement already satisfied: typing-extensions in /usr/local/lib/python3.7/dist-packages (from torch>=1.7.0->-r requirements.txt (line 11)) (3.10.0.2)\n",
            "Requirement already satisfied: wheel>=0.26 in /usr/local/lib/python3.7/dist-packages (from tensorboard>=2.4.1->-r requirements.txt (line 16)) (0.37.1)\n",
            "Requirement already satisfied: protobuf>=3.6.0 in /usr/local/lib/python3.7/dist-packages (from tensorboard>=2.4.1->-r requirements.txt (line 16)) (3.17.3)\n",
            "Requirement already satisfied: absl-py>=0.4 in /usr/local/lib/python3.7/dist-packages (from tensorboard>=2.4.1->-r requirements.txt (line 16)) (1.0.0)\n",
            "Requirement already satisfied: google-auth-oauthlib<0.5,>=0.4.1 in /usr/local/lib/python3.7/dist-packages (from tensorboard>=2.4.1->-r requirements.txt (line 16)) (0.4.6)\n",
            "Requirement already satisfied: markdown>=2.6.8 in /usr/local/lib/python3.7/dist-packages (from tensorboard>=2.4.1->-r requirements.txt (line 16)) (3.3.6)\n",
            "Requirement already satisfied: setuptools>=41.0.0 in /usr/local/lib/python3.7/dist-packages (from tensorboard>=2.4.1->-r requirements.txt (line 16)) (57.4.0)\n",
            "Requirement already satisfied: werkzeug>=0.11.15 in /usr/local/lib/python3.7/dist-packages (from tensorboard>=2.4.1->-r requirements.txt (line 16)) (1.0.1)\n",
            "Requirement already satisfied: tensorboard-plugin-wit>=1.6.0 in /usr/local/lib/python3.7/dist-packages (from tensorboard>=2.4.1->-r requirements.txt (line 16)) (1.8.1)\n",
            "Requirement already satisfied: tensorboard-data-server<0.7.0,>=0.6.0 in /usr/local/lib/python3.7/dist-packages (from tensorboard>=2.4.1->-r requirements.txt (line 16)) (0.6.1)\n",
            "Requirement already satisfied: google-auth<3,>=1.6.3 in /usr/local/lib/python3.7/dist-packages (from tensorboard>=2.4.1->-r requirements.txt (line 16)) (1.35.0)\n",
            "Requirement already satisfied: grpcio>=1.24.3 in /usr/local/lib/python3.7/dist-packages (from tensorboard>=2.4.1->-r requirements.txt (line 16)) (1.44.0)\n",
            "Requirement already satisfied: pytz>=2017.3 in /usr/local/lib/python3.7/dist-packages (from pandas>=1.1.4->-r requirements.txt (line 20)) (2018.9)\n",
            "Requirement already satisfied: six in /usr/local/lib/python3.7/dist-packages (from absl-py>=0.4->tensorboard>=2.4.1->-r requirements.txt (line 16)) (1.15.0)\n",
            "Requirement already satisfied: cachetools<5.0,>=2.0.0 in /usr/local/lib/python3.7/dist-packages (from google-auth<3,>=1.6.3->tensorboard>=2.4.1->-r requirements.txt (line 16)) (4.2.4)\n",
            "Requirement already satisfied: rsa<5,>=3.1.4 in /usr/local/lib/python3.7/dist-packages (from google-auth<3,>=1.6.3->tensorboard>=2.4.1->-r requirements.txt (line 16)) (4.8)\n",
            "Requirement already satisfied: pyasn1-modules>=0.2.1 in /usr/local/lib/python3.7/dist-packages (from google-auth<3,>=1.6.3->tensorboard>=2.4.1->-r requirements.txt (line 16)) (0.2.8)\n",
            "Requirement already satisfied: requests-oauthlib>=0.7.0 in /usr/local/lib/python3.7/dist-packages (from google-auth-oauthlib<0.5,>=0.4.1->tensorboard>=2.4.1->-r requirements.txt (line 16)) (1.3.1)\n",
            "Requirement already satisfied: importlib-metadata>=4.4 in /usr/local/lib/python3.7/dist-packages (from markdown>=2.6.8->tensorboard>=2.4.1->-r requirements.txt (line 16)) (4.11.1)\n",
            "Requirement already satisfied: zipp>=0.5 in /usr/local/lib/python3.7/dist-packages (from importlib-metadata>=4.4->markdown>=2.6.8->tensorboard>=2.4.1->-r requirements.txt (line 16)) (3.7.0)\n",
            "Requirement already satisfied: pyasn1<0.5.0,>=0.4.6 in /usr/local/lib/python3.7/dist-packages (from pyasn1-modules>=0.2.1->google-auth<3,>=1.6.3->tensorboard>=2.4.1->-r requirements.txt (line 16)) (0.4.8)\n",
            "Requirement already satisfied: oauthlib>=3.0.0 in /usr/local/lib/python3.7/dist-packages (from requests-oauthlib>=0.7.0->google-auth-oauthlib<0.5,>=0.4.1->tensorboard>=2.4.1->-r requirements.txt (line 16)) (3.2.0)\n",
            "Installing collected packages: thop, PyYAML\n",
            "  Attempting uninstall: PyYAML\n",
            "    Found existing installation: PyYAML 3.13\n",
            "    Uninstalling PyYAML-3.13:\n",
            "      Successfully uninstalled PyYAML-3.13\n",
            "Successfully installed PyYAML-6.0 thop-0.0.31.post2005241907\n"
          ]
        }
      ]
    },
    {
      "cell_type": "code",
      "source": [
        "import torch\n",
        "from IPython.display import Image  # for displaying images\n",
        "import os \n",
        "import random\n",
        "import shutil\n",
        "from sklearn.model_selection import train_test_split\n",
        "import xml.etree.ElementTree as ET\n",
        "from xml.dom import minidom\n",
        "from tqdm import tqdm\n",
        "from PIL import Image, ImageDraw\n",
        "import numpy as np\n",
        "import matplotlib.pyplot as plt\n",
        "\n",
        "random.seed(108)"
      ],
      "metadata": {
        "id": "1B496zvRg26s"
      },
      "execution_count": null,
      "outputs": []
    },
    {
      "cell_type": "code",
      "source": [
        ""
      ],
      "metadata": {
        "id": "ArbVw3quNEtA"
      },
      "execution_count": null,
      "outputs": []
    },
    {
      "cell_type": "markdown",
      "source": [
        "#Dataset"
      ],
      "metadata": {
        "id": "JWZfRNFPNFvu"
      }
    },
    {
      "cell_type": "code",
      "source": [
        "!mkdir annotations\n",
        "!gdown https://drive.google.com/uc?id=1o2d2mn5lpEiHO6rAzhbwIa1jHpaBbK_I\n",
        "!unzip -q xml_format2.zip\n",
        "!mv xml_format annotations\n",
        "!mv /content/yolov5/annotations/xml_format/images/*.jpg /content/yolov5/annotations\n",
        "!mv /content/yolov5/annotations/xml_format/xml/*.xml /content/yolov5/annotations\n",
        "!rm -r /content/yolov5/annotations/xml_format\n",
        "!rm -r xml_format2.zip\n",
        "!rm -r /content/sample_data\n",
        "\n",
        "#işletim sistemi komutlar"
      ],
      "metadata": {
        "id": "PjSRhLu_g-JL",
        "colab": {
          "base_uri": "https://localhost:8080/"
        },
        "outputId": "2823638f-dad0-4cdd-95e3-6bb61d51582f"
      },
      "execution_count": null,
      "outputs": [
        {
          "output_type": "stream",
          "name": "stdout",
          "text": [
            "Downloading...\n",
            "From: https://drive.google.com/uc?id=1o2d2mn5lpEiHO6rAzhbwIa1jHpaBbK_I\n",
            "To: /content/yolov5/xml_format2.zip\n",
            "\r  0% 0.00/3.99M [00:00<?, ?B/s]\r100% 3.99M/3.99M [00:00<00:00, 71.5MB/s]\n"
          ]
        }
      ]
    },
    {
      "cell_type": "code",
      "source": [
        "# Function to get the data from XML Annotation\n",
        "def extract_info_from_xml(xml_file):\n",
        "    root = ET.parse(xml_file).getroot()\n",
        "    \n",
        "    # Initialise the info dict \n",
        "    info_dict = {}\n",
        "    info_dict['bboxes'] = []\n",
        "\n",
        "    # Parse the XML Tree\n",
        "    for elem in root:\n",
        "        # Get the file name \n",
        "        if elem.tag == \"filename\":\n",
        "            info_dict['filename'] = elem.text\n",
        "            \n",
        "        # Get the image size\n",
        "        elif elem.tag == \"size\":\n",
        "            image_size = []\n",
        "            for subelem in elem:\n",
        "                image_size.append(int(subelem.text))\n",
        "            \n",
        "            info_dict['image_size'] = tuple(image_size)\n",
        "        \n",
        "        # Get details of the bounding box \n",
        "        elif elem.tag == \"object\":\n",
        "            bbox = {}\n",
        "            for subelem in elem:\n",
        "                if subelem.tag == \"name\":\n",
        "                    bbox[\"class\"] = subelem.text\n",
        "                    \n",
        "                elif subelem.tag == \"bndbox\":\n",
        "                    for subsubelem in subelem:\n",
        "                        bbox[subsubelem.tag] = int(subsubelem.text)            \n",
        "            info_dict['bboxes'].append(bbox)\n",
        "    \n",
        "    return info_dict"
      ],
      "metadata": {
        "id": "YgMjvGLzlhb6"
      },
      "execution_count": null,
      "outputs": []
    },
    {
      "cell_type": "code",
      "source": [
        "extract_info_from_xml(\"/content/yolov5/annotations/3_labeling1008.xml\")"
      ],
      "metadata": {
        "id": "gLjrSuHZiDlF",
        "colab": {
          "base_uri": "https://localhost:8080/"
        },
        "outputId": "71cf6935-98ae-4944-a070-4e8f3d3bacba"
      },
      "execution_count": null,
      "outputs": [
        {
          "output_type": "execute_result",
          "data": {
            "text/plain": [
              "{'bboxes': [{'class': 'hedef',\n",
              "   'xmax': 102,\n",
              "   'xmin': 20,\n",
              "   'ymax': 157,\n",
              "   'ymin': 18}],\n",
              " 'filename': '3_labeling1008.jpg',\n",
              " 'image_size': (224, 224, 3)}"
            ]
          },
          "metadata": {},
          "execution_count": 6
        }
      ]
    },
    {
      "cell_type": "code",
      "source": [
        "# Dictionary that maps class names to IDs\n",
        "class_name_to_id_mapping = {\"hedef\": 0\n",
        "                            }\n",
        "#class                     \n",
        "\n",
        "# Convert the info dict to the required yolo format and write it to disk\n",
        "def convert_to_yolov5(info_dict):\n",
        "    print_buffer = []\n",
        "    \n",
        "    # For each bounding box\n",
        "    for b in info_dict[\"bboxes\"]:\n",
        "        try:\n",
        "            class_id = class_name_to_id_mapping[b[\"class\"]]\n",
        "        except KeyError:\n",
        "            print(\"Invalid Class. Must be one from \", class_name_to_id_mapping.keys())\n",
        "        \n",
        "        # Transform the bbox co-ordinates as per the format required by YOLO v5\n",
        "        b_center_x = (b[\"xmin\"] + b[\"xmax\"]) / 2 \n",
        "        b_center_y = (b[\"ymin\"] + b[\"ymax\"]) / 2\n",
        "        b_width    = (b[\"xmax\"] - b[\"xmin\"])\n",
        "        b_height   = (b[\"ymax\"] - b[\"ymin\"])\n",
        "        \n",
        "        # Normalise the co-ordinates by the dimensions of the image\n",
        "        image_w, image_h, image_c = info_dict[\"image_size\"]  \n",
        "        b_center_x /= image_w \n",
        "        b_center_y /= image_h \n",
        "        b_width    /= image_w \n",
        "        b_height   /= image_h \n",
        "        \n",
        "        #Write the bbox details to the file \n",
        "        print_buffer.append(\"{} {:.3f} {:.3f} {:.3f} {:.3f}\".format(class_id, b_center_x, b_center_y, b_width, b_height))\n",
        "        \n",
        "    # Name of the file which we have to save \n",
        "    save_file_name = os.path.join(\"annotations\", info_dict[\"filename\"].replace(\"jpg\", \"txt\"))\n",
        "    \n",
        "    # Save the annotation to disk\n",
        "    print(\"\\n\".join(print_buffer), file= open(save_file_name, \"w\"))"
      ],
      "metadata": {
        "id": "uJawzciJjJhl"
      },
      "execution_count": null,
      "outputs": []
    },
    {
      "cell_type": "code",
      "source": [
        "###XML2TXT\n",
        "# Get the annotations\n",
        "annotations = [os.path.join('annotations', x) for x in os.listdir('annotations') if x[-3:] == \"xml\"]\n",
        "annotations.sort()\n",
        "\n",
        "# Convert and save the annotations\n",
        "for ann in tqdm(annotations):\n",
        "    info_dict = extract_info_from_xml(ann)\n",
        "    convert_to_yolov5(info_dict)\n",
        "annotations = [os.path.join('annotations', x) for x in os.listdir('annotations') if x[-3:] == \"txt\"]"
      ],
      "metadata": {
        "id": "E2OfWp0ZjpWa",
        "colab": {
          "base_uri": "https://localhost:8080/"
        },
        "outputId": "3aa48fce-5bbe-4a25-fbbb-5db42cbd6ae9"
      },
      "execution_count": null,
      "outputs": [
        {
          "output_type": "stream",
          "name": "stderr",
          "text": [
            "100%|██████████| 901/901 [00:00<00:00, 1936.31it/s]\n"
          ]
        }
      ]
    },
    {
      "cell_type": "code",
      "source": [
        "!rm -r /content/yolov5/annotations/*.xml"
      ],
      "metadata": {
        "id": "N7eGZBXUFtOZ"
      },
      "execution_count": null,
      "outputs": []
    },
    {
      "cell_type": "markdown",
      "source": [
        "a\n"
      ],
      "metadata": {
        "id": "sMicYy-EFoKb"
      }
    },
    {
      "cell_type": "code",
      "source": [
        "!mkdir images #dosyayı yeniden taşımam gerekti"
      ],
      "metadata": {
        "id": "Sjswvgy4v-XC"
      },
      "execution_count": null,
      "outputs": []
    },
    {
      "cell_type": "code",
      "source": [
        "!mv /content/yolov5/annotations/*.jpg /content/yolov5/images"
      ],
      "metadata": {
        "id": "YVD1Fd8OxXbk"
      },
      "execution_count": null,
      "outputs": []
    },
    {
      "cell_type": "code",
      "source": [
        "random.seed(0)\n",
        "\n",
        "class_id_to_name_mapping = dict(zip(class_name_to_id_mapping.values(), class_name_to_id_mapping.keys()))\n",
        "\n",
        "def plot_bounding_box(image, annotation_list):\n",
        "    annotations = np.array(annotation_list)\n",
        "    w, h = image.size\n",
        "    \n",
        "    plotted_image = ImageDraw.Draw(image)\n",
        "\n",
        "    transformed_annotations = np.copy(annotations)\n",
        "    transformed_annotations[:,[1,3]] = annotations[:,[1,3]] * w\n",
        "    transformed_annotations[:,[2,4]] = annotations[:,[2,4]] * h \n",
        "    \n",
        "    transformed_annotations[:,1] = transformed_annotations[:,1] - (transformed_annotations[:,3] / 2)\n",
        "    transformed_annotations[:,2] = transformed_annotations[:,2] - (transformed_annotations[:,4] / 2)\n",
        "    transformed_annotations[:,3] = transformed_annotations[:,1] + transformed_annotations[:,3]\n",
        "    transformed_annotations[:,4] = transformed_annotations[:,2] + transformed_annotations[:,4]\n",
        "    \n",
        "    for ann in transformed_annotations:\n",
        "        obj_cls, x0, y0, x1, y1 = ann\n",
        "        plotted_image.rectangle(((x0,y0), (x1,y1)))\n",
        "        \n",
        "        plotted_image.text((x0, y0 - 10), class_id_to_name_mapping[(int(obj_cls))])\n",
        "    \n",
        "    plt.imshow(np.array(image))\n",
        "    plt.show()\n",
        "\n",
        "# Get any random annotation file \n",
        "annotation_file = random.choice(annotations)\n",
        "with open(annotation_file, \"r\") as file:\n",
        "    annotation_list = file.read().split(\"\\n\")[:-1]\n",
        "    annotation_list = [x.split(\" \") for x in annotation_list]\n",
        "    annotation_list = [[float(y) for y in x ] for x in annotation_list]\n",
        "\n",
        "#Get the corresponding image file\n",
        "image_file = annotation_file.replace(\"annotations\", \"images\").replace(\"txt\", \"jpg\")\n",
        "assert os.path.exists(image_file)\n",
        "\n",
        "#Load the image\n",
        "image = Image.open(image_file)\n",
        "\n",
        "#Plot the Bounding Box\n",
        "plot_bounding_box(image, annotation_list)"
      ],
      "metadata": {
        "id": "H3Yo8VHTxidu",
        "colab": {
          "base_uri": "https://localhost:8080/"
        },
        "outputId": "040cf01a-6037-42eb-bcbb-67ee8403faa4"
      },
      "execution_count": null,
      "outputs": [
        {
          "output_type": "display_data",
          "data": {
            "image/png": "[encoded data removed]",
            "text/plain": [
              "<Figure size 432x288 with 1 Axes>"
            ]
          },
          "metadata": {
            "needs_background": "light"
          }
        }
      ]
    },
    {
      "cell_type": "code",
      "source": [
        "#SPLİT Section - @v01dString\n",
        "# Read images and annotations\n",
        "images = [os.path.join('images', x) for x in os.listdir('images')]\n",
        "annotations = [os.path.join('annotations', x) for x in os.listdir('annotations') if x[-3:] == \"txt\"]\n",
        "\n",
        "images.sort()\n",
        "annotations.sort()\n",
        "\n",
        "# Split the dataset into train-valid-test splits \n",
        "train_images, val_images, train_annotations, val_annotations = train_test_split(images, annotations, test_size = 0.2, random_state = 1)\n",
        "val_images, test_images, val_annotations, test_annotations = train_test_split(val_images, val_annotations, test_size = 0.5, random_state = 1)"
      ],
      "metadata": {
        "id": "bcKXgv19x80d"
      },
      "execution_count": null,
      "outputs": []
    },
    {
      "cell_type": "code",
      "source": [
        "!mkdir images/train images/val images/test annotations/train annotations/val annotations/test"
      ],
      "metadata": {
        "id": "CgGvoU4fyEwJ"
      },
      "execution_count": null,
      "outputs": []
    },
    {
      "cell_type": "code",
      "source": [
        "#Utility function to move images \n",
        "def move_files_to_folder(list_of_files, destination_folder):\n",
        "    for f in list_of_files:\n",
        "        try:\n",
        "            shutil.move(f, destination_folder)\n",
        "        except:\n",
        "            print(f)\n",
        "            assert False\n",
        "\n",
        "# Move the splits into their folders\n",
        "move_files_to_folder(train_images, 'images/train')\n",
        "move_files_to_folder(val_images, 'images/val/')\n",
        "move_files_to_folder(test_images, 'images/test/')\n",
        "move_files_to_folder(train_annotations, 'annotations/train/')\n",
        "move_files_to_folder(val_annotations, 'annotations/val/')\n",
        "move_files_to_folder(test_annotations, 'annotations/test/')"
      ],
      "metadata": {
        "id": "GTTIjWgnyKp4"
      },
      "execution_count": null,
      "outputs": []
    },
    {
      "cell_type": "code",
      "source": [
        "#Optional\n",
        "import os\n",
        "os.rename(\"/content/yolov5/annotations\",\"/content/yolov5/labels\")"
      ],
      "metadata": {
        "id": "80E4-tfQIrdv"
      },
      "execution_count": null,
      "outputs": []
    },
    {
      "cell_type": "markdown",
      "source": [
        "#Train & Config"
      ],
      "metadata": {
        "id": "IVn4meTrNYL6"
      }
    },
    {
      "cell_type": "code",
      "source": [
        "#My Config File\n",
        "import shutil\n",
        "shutil.copy(\"/content/drive/MyDrive/road_sign_data.yaml\",\"/content/yolov5/data\")"
      ],
      "metadata": {
        "id": "R20a29n4yOn7",
        "colab": {
          "base_uri": "https://localhost:8080/"
        },
        "outputId": "2ac810be-10d4-4bce-a3a3-5b438840f39d"
      },
      "execution_count": null,
      "outputs": [
        {
          "output_type": "stream",
          "name": "stdout",
          "text": [
            "/content/yolov5\n",
            "--2022-03-02 01:09:27--  https://gist.githubusercontent.com/ayooshkathuria/bcf7e3c929cbad445439c506dba6198d/raw/f437350c0c17c4eaa1e8657a5cb836e65d8aa08a/road_sign_data.yaml\n",
            "Resolving gist.githubusercontent.com (gist.githubusercontent.com)... 185.199.110.133, 185.199.108.133, 185.199.111.133, ...\n",
            "Connecting to gist.githubusercontent.com (gist.githubusercontent.com)|185.199.110.133|:443... connected.\n",
            "HTTP request sent, awaiting response... 200 OK\n",
            "Length: 220 [text/plain]\n",
            "Saving to: ‘data/road_sign_data.yaml’\n",
            "\n",
            "road_sign_data.yaml 100%[===================>]     220  --.-KB/s    in 0s      \n",
            "\n",
            "2022-03-02 01:09:27 (9.28 MB/s) - ‘data/road_sign_data.yaml’ saved [220/220]\n",
            "\n"
          ]
        }
      ]
    },
    {
      "cell_type": "code",
      "source": [
        "!python train.py --img 640 --cfg yolov5s.yaml --hyp hyp.VOC.yaml --batch 32 --epochs 100 --data road_sign_data.yaml --weights yolov5s.pt --workers 24 --name Hedef"
      ],
      "metadata": {
        "id": "p79nqT-vy-HL",
        "colab": {
          "base_uri": "https://localhost:8080/"
        },
        "outputId": "629a651b-5840-46b2-8359-1d59cc7162cc"
      },
      "execution_count": null,
      "outputs": [
        {
          "output_type": "stream",
          "name": "stdout",
          "text": [
            "\u001b[34m\u001b[1mtrain: \u001b[0mweights=yolov5s.pt, cfg=yolov5s.yaml, data=road_sign_data.yaml, hyp=hyp.VOC.yaml, epochs=100, batch_size=32, imgsz=640, rect=False, resume=False, nosave=False, noval=False, noautoanchor=False, evolve=None, bucket=, cache=None, image_weights=False, device=, multi_scale=False, single_cls=False, optimizer=SGD, sync_bn=False, workers=24, project=runs/train, name=yolo_road_det, exist_ok=False, quad=False, cos_lr=False, label_smoothing=0.0, patience=100, freeze=[0], save_period=-1, local_rank=-1, entity=None, upload_dataset=False, bbox_interval=-1, artifact_alias=latest\n",
            "\u001b[34m\u001b[1mgithub: \u001b[0mup to date with https://github.com/ultralytics/yolov5 ✅\n",
            "YOLOv5 🚀 v6.1-11-g63ddb6f torch 1.10.0+cu111 CUDA:0 (Tesla K80, 11441MiB)\n",
            "\n",
            "\u001b[34m\u001b[1mhyperparameters: \u001b[0mlr0=0.00334, lrf=0.15135, momentum=0.74832, weight_decay=0.00025, warmup_epochs=3.3835, warmup_momentum=0.59462, warmup_bias_lr=0.18657, box=0.02, cls=0.21638, cls_pw=0.5, obj=0.51728, obj_pw=0.67198, iou_t=0.2, anchor_t=3.3744, fl_gamma=0.0, hsv_h=0.01041, hsv_s=0.54703, hsv_v=0.27739, degrees=0.0, translate=0.04591, scale=0.75544, shear=0.0, perspective=0.0, flipud=0.0, fliplr=0.5, mosaic=0.85834, mixup=0.04266, copy_paste=0.0, anchors=3.412\n",
            "\u001b[34m\u001b[1mWeights & Biases: \u001b[0mrun 'pip install wandb' to automatically track and visualize YOLOv5 🚀 runs (RECOMMENDED)\n",
            "\u001b[34m\u001b[1mTensorBoard: \u001b[0mStart with 'tensorboard --logdir runs/train', view at http://localhost:6006/\n",
            "Overriding model.yaml nc=80 with nc=1\n",
            "Overriding model.yaml anchors with anchors=3.412\n",
            "\n",
            "                 from  n    params  module                                  arguments                     \n",
            "  0                -1  1      3520  models.common.Conv                      [3, 32, 6, 2, 2]              \n",
            "  1                -1  1     18560  models.common.Conv                      [32, 64, 3, 2]                \n",
            "  2                -1  1     18816  models.common.C3                        [64, 64, 1]                   \n",
            "  3                -1  1     73984  models.common.Conv                      [64, 128, 3, 2]               \n",
            "  4                -1  2    115712  models.common.C3                        [128, 128, 2]                 \n",
            "  5                -1  1    295424  models.common.Conv                      [128, 256, 3, 2]              \n",
            "  6                -1  3    625152  models.common.C3                        [256, 256, 3]                 \n",
            "  7                -1  1   1180672  models.common.Conv                      [256, 512, 3, 2]              \n",
            "  8                -1  1   1182720  models.common.C3                        [512, 512, 1]                 \n",
            "  9                -1  1    656896  models.common.SPPF                      [512, 512, 5]                 \n",
            " 10                -1  1    131584  models.common.Conv                      [512, 256, 1, 1]              \n",
            " 11                -1  1         0  torch.nn.modules.upsampling.Upsample    [None, 2, 'nearest']          \n",
            " 12           [-1, 6]  1         0  models.common.Concat                    [1]                           \n",
            " 13                -1  1    361984  models.common.C3                        [512, 256, 1, False]          \n",
            " 14                -1  1     33024  models.common.Conv                      [256, 128, 1, 1]              \n",
            " 15                -1  1         0  torch.nn.modules.upsampling.Upsample    [None, 2, 'nearest']          \n",
            " 16           [-1, 4]  1         0  models.common.Concat                    [1]                           \n",
            " 17                -1  1     90880  models.common.C3                        [256, 128, 1, False]          \n",
            " 18                -1  1    147712  models.common.Conv                      [128, 128, 3, 2]              \n",
            " 19          [-1, 14]  1         0  models.common.Concat                    [1]                           \n",
            " 20                -1  1    296448  models.common.C3                        [256, 256, 1, False]          \n",
            " 21                -1  1    590336  models.common.Conv                      [256, 256, 3, 2]              \n",
            " 22          [-1, 10]  1         0  models.common.Concat                    [1]                           \n",
            " 23                -1  1   1182720  models.common.C3                        [512, 512, 1, False]          \n",
            " 24      [17, 20, 23]  1     16182  models.yolo.Detect                      [1, [[0, 1, 2, 3, 4, 5], [0, 1, 2, 3, 4, 5], [0, 1, 2, 3, 4, 5]], [128, 256, 512]]\n",
            "Model Summary: 270 layers, 7022326 parameters, 7022326 gradients, 15.8 GFLOPs\n",
            "\n",
            "Transferred 342/349 items from yolov5s.pt\n",
            "Scaled weight_decay = 0.00025\n",
            "\u001b[34m\u001b[1moptimizer:\u001b[0m SGD with parameter groups 57 weight (no decay), 60 weight, 60 bias\n",
            "\u001b[34m\u001b[1malbumentations: \u001b[0mversion 1.0.3 required by YOLOv5, but version 0.1.12 is currently installed\n",
            "\u001b[34m\u001b[1mtrain: \u001b[0mScanning '/content/yolov5/../yolov5/labels/train' images and labels...720 found, 0 missing, 0 empty, 0 corrupt: 100% 720/720 [00:00<00:00, 1480.14it/s]\n",
            "\u001b[34m\u001b[1mtrain: \u001b[0mNew cache created: /content/yolov5/../yolov5/labels/train.cache\n",
            "\u001b[34m\u001b[1mval: \u001b[0mScanning '/content/yolov5/../yolov5/labels/val' images and labels...90 found, 0 missing, 0 empty, 0 corrupt: 100% 90/90 [00:00<00:00, 769.32it/s]\n",
            "\u001b[34m\u001b[1mval: \u001b[0mNew cache created: /content/yolov5/../yolov5/labels/val.cache\n",
            "Plotting labels to runs/train/yolo_road_det4/labels.jpg... \n",
            "\n",
            "\u001b[34m\u001b[1mAutoAnchor: \u001b[0m0.00 anchors/target, 0.000 Best Possible Recall (BPR). Anchors are a poor fit to dataset ⚠️, attempting to improve...\n",
            "\u001b[34m\u001b[1mAutoAnchor: \u001b[0mRunning kmeans for 9 anchors on 720 points...\n",
            "\u001b[34m\u001b[1mAutoAnchor: \u001b[0mEvolving anchors with Genetic Algorithm: fitness = 0.9104: 100% 1000/1000 [00:00<00:00, 2046.15it/s]\n",
            "\u001b[34m\u001b[1mAutoAnchor: \u001b[0mthr=0.30: 1.0000 best possible recall, 6.51 anchors past thr\n",
            "\u001b[34m\u001b[1mAutoAnchor: \u001b[0mn=9, img_size=640, metric_all=0.522/0.910-mean/best, past_thr=0.642-mean: 42,94, 62,138, 107,206, 147,330, 223,328, 205,359, 267,373, 223,504, 340,520\n",
            "\u001b[34m\u001b[1mAutoAnchor: \u001b[0mDone ✅ (optional: update model *.yaml to use these anchors in the future)\n",
            "Image sizes 640 train, 640 val\n",
            "Using 2 dataloader workers\n",
            "Logging results to \u001b[1mruns/train/yolo_road_det4\u001b[0m\n",
            "Starting training for 100 epochs...\n",
            "\n",
            "     Epoch   gpu_mem       box       obj       cls    labels  img_size\n",
            "      0/99     6.21G   0.04273   0.01418         0        23       640: 100% 23/23 [00:51<00:00,  2.22s/it]\n",
            "               Class     Images     Labels          P          R     mAP@.5 mAP@.5:.95: 100% 2/2 [00:04<00:00,  2.01s/it]\n",
            "                 all         90         90     0.0296      0.133     0.0136    0.00247\n",
            "\n",
            "     Epoch   gpu_mem       box       obj       cls    labels  img_size\n",
            "      1/99     7.14G   0.03595    0.0125         0        28       640: 100% 23/23 [00:50<00:00,  2.18s/it]\n",
            "               Class     Images     Labels          P          R     mAP@.5 mAP@.5:.95: 100% 2/2 [00:03<00:00,  1.58s/it]\n",
            "                 all         90         90     0.0774      0.311     0.0518    0.00889\n",
            "\n",
            "     Epoch   gpu_mem       box       obj       cls    labels  img_size\n",
            "      2/99     7.14G   0.02774   0.01246         0        32       640: 100% 23/23 [00:49<00:00,  2.15s/it]\n",
            "               Class     Images     Labels          P          R     mAP@.5 mAP@.5:.95: 100% 2/2 [00:02<00:00,  1.35s/it]\n",
            "                 all         90         90     0.0145      0.467     0.0134    0.00279\n",
            "\n",
            "     Epoch   gpu_mem       box       obj       cls    labels  img_size\n",
            "      3/99     7.14G   0.02455   0.01166         0        27       640: 100% 23/23 [00:49<00:00,  2.14s/it]\n",
            "               Class     Images     Labels          P          R     mAP@.5 mAP@.5:.95: 100% 2/2 [00:02<00:00,  1.16s/it]\n",
            "                 all         90         90      0.667      0.713      0.704      0.256\n",
            "\n",
            "     Epoch   gpu_mem       box       obj       cls    labels  img_size\n",
            "      4/99     7.14G   0.02142   0.01101         0        33       640: 100% 23/23 [00:49<00:00,  2.15s/it]\n",
            "               Class     Images     Labels          P          R     mAP@.5 mAP@.5:.95: 100% 2/2 [00:02<00:00,  1.24s/it]\n",
            "                 all         90         90       0.74      0.756      0.713       0.24\n",
            "\n",
            "     Epoch   gpu_mem       box       obj       cls    labels  img_size\n",
            "      5/99     7.14G   0.02028   0.01012         0        22       640: 100% 23/23 [00:49<00:00,  2.13s/it]\n",
            "               Class     Images     Labels          P          R     mAP@.5 mAP@.5:.95: 100% 2/2 [00:02<00:00,  1.18s/it]\n",
            "                 all         90         90      0.743      0.778      0.765      0.288\n",
            "\n",
            "     Epoch   gpu_mem       box       obj       cls    labels  img_size\n",
            "      6/99     7.14G   0.01858    0.0103         0        33       640: 100% 23/23 [00:49<00:00,  2.14s/it]\n",
            "               Class     Images     Labels          P          R     mAP@.5 mAP@.5:.95: 100% 2/2 [00:02<00:00,  1.11s/it]\n",
            "                 all         90         90      0.975      0.864      0.928      0.442\n",
            "\n",
            "     Epoch   gpu_mem       box       obj       cls    labels  img_size\n",
            "      7/99     7.14G   0.01792  0.009431         0        30       640: 100% 23/23 [00:49<00:00,  2.14s/it]\n",
            "               Class     Images     Labels          P          R     mAP@.5 mAP@.5:.95: 100% 2/2 [00:02<00:00,  1.09s/it]\n",
            "                 all         90         90      0.996      0.911      0.983      0.522\n",
            "\n",
            "     Epoch   gpu_mem       box       obj       cls    labels  img_size\n",
            "      8/99     7.14G   0.01737  0.009058         0        39       640: 100% 23/23 [00:49<00:00,  2.13s/it]\n",
            "               Class     Images     Labels          P          R     mAP@.5 mAP@.5:.95: 100% 2/2 [00:02<00:00,  1.18s/it]\n",
            "                 all         90         90      0.984      0.789      0.954      0.455\n",
            "\n",
            "     Epoch   gpu_mem       box       obj       cls    labels  img_size\n",
            "      9/99     7.14G   0.01637  0.008433         0        31       640: 100% 23/23 [00:49<00:00,  2.13s/it]\n",
            "               Class     Images     Labels          P          R     mAP@.5 mAP@.5:.95: 100% 2/2 [00:02<00:00,  1.05s/it]\n",
            "                 all         90         90      0.989      0.998       0.99       0.57\n",
            "\n",
            "     Epoch   gpu_mem       box       obj       cls    labels  img_size\n",
            "     10/99     7.14G   0.01621  0.008316         0        29       640: 100% 23/23 [00:48<00:00,  2.13s/it]\n",
            "               Class     Images     Labels          P          R     mAP@.5 mAP@.5:.95: 100% 2/2 [00:02<00:00,  1.06s/it]\n",
            "                 all         90         90          1          1      0.995      0.559\n",
            "\n",
            "     Epoch   gpu_mem       box       obj       cls    labels  img_size\n",
            "     11/99     7.14G   0.01657    0.0076         0        37       640: 100% 23/23 [00:49<00:00,  2.13s/it]\n",
            "               Class     Images     Labels          P          R     mAP@.5 mAP@.5:.95: 100% 2/2 [00:02<00:00,  1.05s/it]\n",
            "                 all         90         90          1          1      0.995      0.541\n",
            "\n",
            "     Epoch   gpu_mem       box       obj       cls    labels  img_size\n",
            "     12/99     7.14G   0.01595  0.007698         0        36       640: 100% 23/23 [00:48<00:00,  2.13s/it]\n",
            "               Class     Images     Labels          P          R     mAP@.5 mAP@.5:.95: 100% 2/2 [00:02<00:00,  1.02s/it]\n",
            "                 all         90         90          1          1      0.995       0.53\n",
            "\n",
            "     Epoch   gpu_mem       box       obj       cls    labels  img_size\n",
            "     13/99     7.14G   0.01549  0.007283         0        34       640: 100% 23/23 [00:48<00:00,  2.13s/it]\n",
            "               Class     Images     Labels          P          R     mAP@.5 mAP@.5:.95: 100% 2/2 [00:02<00:00,  1.01s/it]\n",
            "                 all         90         90          1          1      0.995      0.593\n",
            "\n",
            "     Epoch   gpu_mem       box       obj       cls    labels  img_size\n",
            "     14/99     7.14G   0.01522  0.006748         0        27       640: 100% 23/23 [00:48<00:00,  2.13s/it]\n",
            "               Class     Images     Labels          P          R     mAP@.5 mAP@.5:.95: 100% 2/2 [00:02<00:00,  1.01s/it]\n",
            "                 all         90         90          1          1      0.995      0.509\n",
            "\n",
            "     Epoch   gpu_mem       box       obj       cls    labels  img_size\n",
            "     15/99     7.14G   0.01535  0.006635         0        26       640: 100% 23/23 [00:48<00:00,  2.13s/it]\n",
            "               Class     Images     Labels          P          R     mAP@.5 mAP@.5:.95: 100% 2/2 [00:02<00:00,  1.01s/it]\n",
            "                 all         90         90          1          1      0.995      0.614\n",
            "\n",
            "     Epoch   gpu_mem       box       obj       cls    labels  img_size\n",
            "     16/99     7.14G   0.01543  0.006689         0        41       640: 100% 23/23 [00:48<00:00,  2.13s/it]\n",
            "               Class     Images     Labels          P          R     mAP@.5 mAP@.5:.95: 100% 2/2 [00:02<00:00,  1.00s/it]\n",
            "                 all         90         90          1      0.998      0.995      0.546\n",
            "\n",
            "     Epoch   gpu_mem       box       obj       cls    labels  img_size\n",
            "     17/99     7.14G   0.01439  0.006221         0        30       640: 100% 23/23 [00:48<00:00,  2.13s/it]\n",
            "               Class     Images     Labels          P          R     mAP@.5 mAP@.5:.95: 100% 2/2 [00:01<00:00,  1.02it/s]\n",
            "                 all         90         90          1          1      0.995      0.597\n",
            "\n",
            "     Epoch   gpu_mem       box       obj       cls    labels  img_size\n",
            "     18/99     7.14G   0.01491  0.006477         0        41       640: 100% 23/23 [00:48<00:00,  2.13s/it]\n",
            "               Class     Images     Labels          P          R     mAP@.5 mAP@.5:.95: 100% 2/2 [00:01<00:00,  1.01it/s]\n",
            "                 all         90         90          1          1      0.995      0.607\n",
            "\n",
            "     Epoch   gpu_mem       box       obj       cls    labels  img_size\n",
            "     19/99     7.14G   0.01381  0.005981         0        36       640: 100% 23/23 [00:49<00:00,  2.13s/it]\n",
            "               Class     Images     Labels          P          R     mAP@.5 mAP@.5:.95: 100% 2/2 [00:01<00:00,  1.00it/s]\n",
            "                 all         90         90          1          1      0.995      0.635\n",
            "\n",
            "     Epoch   gpu_mem       box       obj       cls    labels  img_size\n",
            "     20/99     7.14G   0.01446   0.00602         0        29       640: 100% 23/23 [00:48<00:00,  2.13s/it]\n",
            "               Class     Images     Labels          P          R     mAP@.5 mAP@.5:.95: 100% 2/2 [00:02<00:00,  1.01s/it]\n",
            "                 all         90         90          1          1      0.995      0.573\n",
            "\n",
            "     Epoch   gpu_mem       box       obj       cls    labels  img_size\n",
            "     21/99     7.14G    0.0141   0.00585         0        27       640: 100% 23/23 [00:49<00:00,  2.13s/it]\n",
            "               Class     Images     Labels          P          R     mAP@.5 mAP@.5:.95: 100% 2/2 [00:01<00:00,  1.01it/s]\n",
            "                 all         90         90          1          1      0.995      0.618\n",
            "\n",
            "     Epoch   gpu_mem       box       obj       cls    labels  img_size\n",
            "     22/99     7.14G   0.01373  0.005577         0        31       640: 100% 23/23 [00:48<00:00,  2.13s/it]\n",
            "               Class     Images     Labels          P          R     mAP@.5 mAP@.5:.95: 100% 2/2 [00:01<00:00,  1.01it/s]\n",
            "                 all         90         90          1          1      0.995      0.597\n",
            "\n",
            "     Epoch   gpu_mem       box       obj       cls    labels  img_size\n",
            "     23/99     7.14G   0.01352  0.005472         0        28       640: 100% 23/23 [00:49<00:00,  2.13s/it]\n",
            "               Class     Images     Labels          P          R     mAP@.5 mAP@.5:.95: 100% 2/2 [00:01<00:00,  1.00it/s]\n",
            "                 all         90         90          1          1      0.995      0.664\n",
            "\n",
            "     Epoch   gpu_mem       box       obj       cls    labels  img_size\n",
            "     24/99     7.14G   0.01316  0.005501         0        22       640: 100% 23/23 [00:48<00:00,  2.13s/it]\n",
            "               Class     Images     Labels          P          R     mAP@.5 mAP@.5:.95: 100% 2/2 [00:01<00:00,  1.01it/s]\n",
            "                 all         90         90      0.989          1      0.985      0.563\n",
            "\n",
            "     Epoch   gpu_mem       box       obj       cls    labels  img_size\n",
            "     25/99     7.14G   0.01354  0.005423         0        28       640: 100% 23/23 [00:48<00:00,  2.13s/it]\n",
            "               Class     Images     Labels          P          R     mAP@.5 mAP@.5:.95: 100% 2/2 [00:01<00:00,  1.01it/s]\n",
            "                 all         90         90          1          1      0.995      0.636\n",
            "\n",
            "     Epoch   gpu_mem       box       obj       cls    labels  img_size\n",
            "     26/99     7.14G   0.01321  0.005492         0        30       640: 100% 23/23 [00:48<00:00,  2.13s/it]\n",
            "               Class     Images     Labels          P          R     mAP@.5 mAP@.5:.95: 100% 2/2 [00:02<00:00,  1.00s/it]\n",
            "                 all         90         90          1          1      0.995      0.605\n",
            "\n",
            "     Epoch   gpu_mem       box       obj       cls    labels  img_size\n",
            "     27/99     7.14G   0.01276  0.005403         0        28       640: 100% 23/23 [00:48<00:00,  2.13s/it]\n",
            "               Class     Images     Labels          P          R     mAP@.5 mAP@.5:.95: 100% 2/2 [00:01<00:00,  1.01it/s]\n",
            "                 all         90         90          1          1      0.995       0.66\n",
            "\n",
            "     Epoch   gpu_mem       box       obj       cls    labels  img_size\n",
            "     28/99     7.14G   0.01288  0.005144         0        29       640: 100% 23/23 [00:49<00:00,  2.13s/it]\n",
            "               Class     Images     Labels          P          R     mAP@.5 mAP@.5:.95: 100% 2/2 [00:01<00:00,  1.02it/s]\n",
            "                 all         90         90          1          1      0.995      0.645\n",
            "\n",
            "     Epoch   gpu_mem       box       obj       cls    labels  img_size\n",
            "     29/99     7.14G   0.01312  0.005106         0        26       640: 100% 23/23 [00:48<00:00,  2.13s/it]\n",
            "               Class     Images     Labels          P          R     mAP@.5 mAP@.5:.95: 100% 2/2 [00:01<00:00,  1.01it/s]\n",
            "                 all         90         90          1          1      0.995      0.652\n",
            "\n",
            "     Epoch   gpu_mem       box       obj       cls    labels  img_size\n",
            "     30/99     7.14G   0.01244  0.004854         0        29       640: 100% 23/23 [00:48<00:00,  2.13s/it]\n",
            "               Class     Images     Labels          P          R     mAP@.5 mAP@.5:.95: 100% 2/2 [00:01<00:00,  1.01it/s]\n",
            "                 all         90         90          1          1      0.995      0.624\n",
            "\n",
            "     Epoch   gpu_mem       box       obj       cls    labels  img_size\n",
            "     31/99     7.14G   0.01264   0.00528         0        26       640: 100% 23/23 [00:48<00:00,  2.13s/it]\n",
            "               Class     Images     Labels          P          R     mAP@.5 mAP@.5:.95: 100% 2/2 [00:01<00:00,  1.01it/s]\n",
            "                 all         90         90          1          1      0.995      0.636\n",
            "\n",
            "     Epoch   gpu_mem       box       obj       cls    labels  img_size\n",
            "     32/99     7.14G   0.01236  0.004974         0        29       640: 100% 23/23 [00:49<00:00,  2.13s/it]\n",
            "               Class     Images     Labels          P          R     mAP@.5 mAP@.5:.95: 100% 2/2 [00:01<00:00,  1.01it/s]\n",
            "                 all         90         90          1          1      0.995      0.612\n",
            "\n",
            "     Epoch   gpu_mem       box       obj       cls    labels  img_size\n",
            "     33/99     7.14G   0.01222  0.004823         0        28       640: 100% 23/23 [00:48<00:00,  2.13s/it]\n",
            "               Class     Images     Labels          P          R     mAP@.5 mAP@.5:.95: 100% 2/2 [00:01<00:00,  1.02it/s]\n",
            "                 all         90         90          1          1      0.995      0.662\n",
            "\n",
            "     Epoch   gpu_mem       box       obj       cls    labels  img_size\n",
            "     34/99     7.14G   0.01229  0.005095         0        33       640: 100% 23/23 [00:48<00:00,  2.13s/it]\n",
            "               Class     Images     Labels          P          R     mAP@.5 mAP@.5:.95: 100% 2/2 [00:02<00:00,  1.00s/it]\n",
            "                 all         90         90          1          1      0.995       0.66\n",
            "\n",
            "     Epoch   gpu_mem       box       obj       cls    labels  img_size\n",
            "     35/99     7.14G   0.01188  0.005113         0        39       640: 100% 23/23 [00:48<00:00,  2.13s/it]\n",
            "               Class     Images     Labels          P          R     mAP@.5 mAP@.5:.95: 100% 2/2 [00:02<00:00,  1.00s/it]\n",
            "                 all         90         90          1          1      0.995      0.678\n",
            "\n",
            "     Epoch   gpu_mem       box       obj       cls    labels  img_size\n",
            "     36/99     7.14G    0.0118  0.004727         0        28       640: 100% 23/23 [00:48<00:00,  2.13s/it]\n",
            "               Class     Images     Labels          P          R     mAP@.5 mAP@.5:.95: 100% 2/2 [00:02<00:00,  1.02s/it]\n",
            "                 all         90         90          1          1      0.995      0.645\n",
            "\n",
            "     Epoch   gpu_mem       box       obj       cls    labels  img_size\n",
            "     37/99     7.14G   0.01196  0.004669         0        21       640: 100% 23/23 [00:48<00:00,  2.13s/it]\n",
            "               Class     Images     Labels          P          R     mAP@.5 mAP@.5:.95: 100% 2/2 [00:01<00:00,  1.01it/s]\n",
            "                 all         90         90          1          1      0.995      0.659\n",
            "\n",
            "     Epoch   gpu_mem       box       obj       cls    labels  img_size\n",
            "     38/99     7.14G   0.01159  0.004833         0        29       640: 100% 23/23 [00:49<00:00,  2.13s/it]\n",
            "               Class     Images     Labels          P          R     mAP@.5 mAP@.5:.95: 100% 2/2 [00:02<00:00,  1.00s/it]\n",
            "                 all         90         90          1          1      0.995      0.611\n",
            "\n",
            "     Epoch   gpu_mem       box       obj       cls    labels  img_size\n",
            "     39/99     7.14G   0.01137  0.004917         0        41       640: 100% 23/23 [00:48<00:00,  2.13s/it]\n",
            "               Class     Images     Labels          P          R     mAP@.5 mAP@.5:.95: 100% 2/2 [00:01<00:00,  1.00it/s]\n",
            "                 all         90         90          1          1      0.995      0.668\n",
            "\n",
            "     Epoch   gpu_mem       box       obj       cls    labels  img_size\n",
            "     40/99     7.14G   0.01143  0.004711         0        33       640: 100% 23/23 [00:48<00:00,  2.13s/it]\n",
            "               Class     Images     Labels          P          R     mAP@.5 mAP@.5:.95: 100% 2/2 [00:02<00:00,  1.00s/it]\n",
            "                 all         90         90          1          1      0.995      0.639\n",
            "\n",
            "     Epoch   gpu_mem       box       obj       cls    labels  img_size\n",
            "     41/99     7.14G   0.01147  0.004891         0        41       640: 100% 23/23 [00:49<00:00,  2.15s/it]\n",
            "               Class     Images     Labels          P          R     mAP@.5 mAP@.5:.95: 100% 2/2 [00:02<00:00,  1.11s/it]\n",
            "                 all         90         90          1          1      0.995      0.673\n",
            "\n",
            "     Epoch   gpu_mem       box       obj       cls    labels  img_size\n",
            "     42/99     7.14G   0.01163  0.004824         0        34       640: 100% 23/23 [00:49<00:00,  2.17s/it]\n",
            "               Class     Images     Labels          P          R     mAP@.5 mAP@.5:.95: 100% 2/2 [00:02<00:00,  1.16s/it]\n",
            "                 all         90         90          1          1      0.995      0.662\n",
            "\n",
            "     Epoch   gpu_mem       box       obj       cls    labels  img_size\n",
            "     43/99     7.14G   0.01092  0.004783         0        38       640: 100% 23/23 [00:49<00:00,  2.15s/it]\n",
            "               Class     Images     Labels          P          R     mAP@.5 mAP@.5:.95: 100% 2/2 [00:02<00:00,  1.00s/it]\n",
            "                 all         90         90          1          1      0.995      0.675\n",
            "\n",
            "     Epoch   gpu_mem       box       obj       cls    labels  img_size\n",
            "     44/99     7.14G   0.01079  0.004515         0        23       640: 100% 23/23 [00:49<00:00,  2.14s/it]\n",
            "               Class     Images     Labels          P          R     mAP@.5 mAP@.5:.95: 100% 2/2 [00:02<00:00,  1.01s/it]\n",
            "                 all         90         90          1          1      0.995      0.641\n",
            "\n",
            "     Epoch   gpu_mem       box       obj       cls    labels  img_size\n",
            "     45/99     7.14G   0.01084  0.004568         0        34       640: 100% 23/23 [00:48<00:00,  2.12s/it]\n",
            "               Class     Images     Labels          P          R     mAP@.5 mAP@.5:.95: 100% 2/2 [00:02<00:00,  1.00s/it]\n",
            "                 all         90         90          1          1      0.995       0.67\n",
            "\n",
            "     Epoch   gpu_mem       box       obj       cls    labels  img_size\n",
            "     46/99     7.14G   0.01089  0.004584         0        29       640: 100% 23/23 [00:48<00:00,  2.12s/it]\n",
            "               Class     Images     Labels          P          R     mAP@.5 mAP@.5:.95: 100% 2/2 [00:01<00:00,  1.00it/s]\n",
            "                 all         90         90          1          1      0.995      0.656\n",
            "\n",
            "     Epoch   gpu_mem       box       obj       cls    labels  img_size\n",
            "     47/99     7.14G   0.01085  0.004663         0        29       640: 100% 23/23 [00:48<00:00,  2.13s/it]\n",
            "               Class     Images     Labels          P          R     mAP@.5 mAP@.5:.95: 100% 2/2 [00:01<00:00,  1.01it/s]\n",
            "                 all         90         90          1          1      0.995       0.68\n",
            "\n",
            "     Epoch   gpu_mem       box       obj       cls    labels  img_size\n",
            "     48/99     7.14G   0.01084  0.004444         0        24       640: 100% 23/23 [00:48<00:00,  2.13s/it]\n",
            "               Class     Images     Labels          P          R     mAP@.5 mAP@.5:.95: 100% 2/2 [00:01<00:00,  1.00it/s]\n",
            "                 all         90         90          1          1      0.995      0.687\n",
            "\n",
            "     Epoch   gpu_mem       box       obj       cls    labels  img_size\n",
            "     49/99     7.14G   0.01034  0.004481         0        22       640: 100% 23/23 [00:48<00:00,  2.13s/it]\n",
            "               Class     Images     Labels          P          R     mAP@.5 mAP@.5:.95: 100% 2/2 [00:01<00:00,  1.01it/s]\n",
            "                 all         90         90          1          1      0.995       0.67\n",
            "\n",
            "     Epoch   gpu_mem       box       obj       cls    labels  img_size\n",
            "     50/99     7.14G   0.01054  0.004601         0        38       640: 100% 23/23 [00:49<00:00,  2.13s/it]\n",
            "               Class     Images     Labels          P          R     mAP@.5 mAP@.5:.95: 100% 2/2 [00:02<00:00,  1.02s/it]\n",
            "                 all         90         90          1          1      0.995      0.679\n",
            "\n",
            "     Epoch   gpu_mem       box       obj       cls    labels  img_size\n",
            "     51/99     7.14G   0.01034  0.004523         0        47       640: 100% 23/23 [00:49<00:00,  2.15s/it]\n",
            "               Class     Images     Labels          P          R     mAP@.5 mAP@.5:.95: 100% 2/2 [00:01<00:00,  1.00it/s]\n",
            "                 all         90         90          1          1      0.995      0.686\n",
            "\n",
            "     Epoch   gpu_mem       box       obj       cls    labels  img_size\n",
            "     52/99     7.14G   0.01017  0.004518         0        23       640: 100% 23/23 [00:49<00:00,  2.15s/it]\n",
            "               Class     Images     Labels          P          R     mAP@.5 mAP@.5:.95: 100% 2/2 [00:02<00:00,  1.01s/it]\n",
            "                 all         90         90          1          1      0.995       0.68\n",
            "\n",
            "     Epoch   gpu_mem       box       obj       cls    labels  img_size\n",
            "     53/99     7.14G   0.01075  0.004457         0        27       640: 100% 23/23 [00:49<00:00,  2.14s/it]\n",
            "               Class     Images     Labels          P          R     mAP@.5 mAP@.5:.95: 100% 2/2 [00:01<00:00,  1.01it/s]\n",
            "                 all         90         90          1          1      0.995      0.682\n",
            "\n",
            "     Epoch   gpu_mem       box       obj       cls    labels  img_size\n",
            "     54/99     7.14G   0.01038  0.004301         0        26       640: 100% 23/23 [00:49<00:00,  2.14s/it]\n",
            "               Class     Images     Labels          P          R     mAP@.5 mAP@.5:.95: 100% 2/2 [00:02<00:00,  1.01s/it]\n",
            "                 all         90         90          1          1      0.995      0.667\n",
            "\n",
            "     Epoch   gpu_mem       box       obj       cls    labels  img_size\n",
            "     55/99     7.14G   0.01075  0.004412         0        38       640: 100% 23/23 [00:49<00:00,  2.14s/it]\n",
            "               Class     Images     Labels          P          R     mAP@.5 mAP@.5:.95: 100% 2/2 [00:01<00:00,  1.00it/s]\n",
            "                 all         90         90          1          1      0.995      0.684\n",
            "\n",
            "     Epoch   gpu_mem       box       obj       cls    labels  img_size\n",
            "     56/99     7.14G   0.01006  0.004561         0        32       640: 100% 23/23 [00:49<00:00,  2.14s/it]\n",
            "               Class     Images     Labels          P          R     mAP@.5 mAP@.5:.95: 100% 2/2 [00:02<00:00,  1.01s/it]\n",
            "                 all         90         90          1          1      0.995      0.672\n",
            "\n",
            "     Epoch   gpu_mem       box       obj       cls    labels  img_size\n",
            "     57/99     7.14G  0.009858  0.004338         0        34       640: 100% 23/23 [00:49<00:00,  2.14s/it]\n",
            "               Class     Images     Labels          P          R     mAP@.5 mAP@.5:.95: 100% 2/2 [00:01<00:00,  1.01it/s]\n",
            "                 all         90         90          1          1      0.995      0.681\n",
            "\n",
            "     Epoch   gpu_mem       box       obj       cls    labels  img_size\n",
            "     58/99     7.14G  0.009848  0.004483         0        38       640: 100% 23/23 [00:49<00:00,  2.14s/it]\n",
            "               Class     Images     Labels          P          R     mAP@.5 mAP@.5:.95: 100% 2/2 [00:01<00:00,  1.01it/s]\n",
            "                 all         90         90          1          1      0.995      0.684\n",
            "\n",
            "     Epoch   gpu_mem       box       obj       cls    labels  img_size\n",
            "     59/99     7.14G   0.01034  0.004247         0        27       640: 100% 23/23 [00:49<00:00,  2.14s/it]\n",
            "               Class     Images     Labels          P          R     mAP@.5 mAP@.5:.95: 100% 2/2 [00:01<00:00,  1.02it/s]\n",
            "                 all         90         90          1          1      0.995       0.69\n",
            "\n",
            "     Epoch   gpu_mem       box       obj       cls    labels  img_size\n",
            "     60/99     7.14G   0.01028  0.004498         0        34       640: 100% 23/23 [00:49<00:00,  2.14s/it]\n",
            "               Class     Images     Labels          P          R     mAP@.5 mAP@.5:.95: 100% 2/2 [00:01<00:00,  1.01it/s]\n",
            "                 all         90         90          1          1      0.995      0.682\n",
            "\n",
            "     Epoch   gpu_mem       box       obj       cls    labels  img_size\n",
            "     61/99     7.14G  0.009805  0.004438         0        31       640: 100% 23/23 [00:49<00:00,  2.14s/it]\n",
            "               Class     Images     Labels          P          R     mAP@.5 mAP@.5:.95: 100% 2/2 [00:01<00:00,  1.01it/s]\n",
            "                 all         90         90          1          1      0.995      0.691\n",
            "\n",
            "     Epoch   gpu_mem       box       obj       cls    labels  img_size\n",
            "     62/99     7.14G  0.009812  0.004524         0        27       640: 100% 23/23 [00:49<00:00,  2.14s/it]\n",
            "               Class     Images     Labels          P          R     mAP@.5 mAP@.5:.95: 100% 2/2 [00:01<00:00,  1.01it/s]\n",
            "                 all         90         90          1          1      0.995      0.677\n",
            "\n",
            "     Epoch   gpu_mem       box       obj       cls    labels  img_size\n",
            "     63/99     7.14G  0.009896  0.004258         0        27       640: 100% 23/23 [00:49<00:00,  2.14s/it]\n",
            "               Class     Images     Labels          P          R     mAP@.5 mAP@.5:.95: 100% 2/2 [00:01<00:00,  1.02it/s]\n",
            "                 all         90         90          1          1      0.995      0.697\n",
            "\n",
            "     Epoch   gpu_mem       box       obj       cls    labels  img_size\n",
            "     64/99     7.14G  0.009859  0.004292         0        28       640: 100% 23/23 [00:49<00:00,  2.14s/it]\n",
            "               Class     Images     Labels          P          R     mAP@.5 mAP@.5:.95: 100% 2/2 [00:01<00:00,  1.02it/s]\n",
            "                 all         90         90          1          1      0.995      0.684\n",
            "\n",
            "     Epoch   gpu_mem       box       obj       cls    labels  img_size\n",
            "     65/99     7.14G   0.01015  0.004563         0        29       640: 100% 23/23 [00:49<00:00,  2.13s/it]\n",
            "               Class     Images     Labels          P          R     mAP@.5 mAP@.5:.95: 100% 2/2 [00:01<00:00,  1.02it/s]\n",
            "                 all         90         90          1          1      0.995       0.68\n",
            "\n",
            "     Epoch   gpu_mem       box       obj       cls    labels  img_size\n",
            "     66/99     7.14G  0.009198  0.004447         0        30       640: 100% 23/23 [00:49<00:00,  2.14s/it]\n",
            "               Class     Images     Labels          P          R     mAP@.5 mAP@.5:.95: 100% 2/2 [00:01<00:00,  1.00it/s]\n",
            "                 all         90         90          1          1      0.995      0.668\n",
            "\n",
            "     Epoch   gpu_mem       box       obj       cls    labels  img_size\n",
            "     67/99     7.14G  0.009421  0.004431         0        28       640: 100% 23/23 [00:49<00:00,  2.14s/it]\n",
            "               Class     Images     Labels          P          R     mAP@.5 mAP@.5:.95: 100% 2/2 [00:01<00:00,  1.01it/s]\n",
            "                 all         90         90          1          1      0.995      0.689\n",
            "\n",
            "     Epoch   gpu_mem       box       obj       cls    labels  img_size\n",
            "     68/99     7.14G  0.009664  0.004514         0        26       640: 100% 23/23 [00:49<00:00,  2.14s/it]\n",
            "               Class     Images     Labels          P          R     mAP@.5 mAP@.5:.95: 100% 2/2 [00:01<00:00,  1.00it/s]\n",
            "                 all         90         90          1          1      0.995      0.686\n",
            "\n",
            "     Epoch   gpu_mem       box       obj       cls    labels  img_size\n",
            "     69/99     7.14G   0.00908  0.004399         0        23       640: 100% 23/23 [00:49<00:00,  2.14s/it]\n",
            "               Class     Images     Labels          P          R     mAP@.5 mAP@.5:.95: 100% 2/2 [00:01<00:00,  1.02it/s]\n",
            "                 all         90         90          1          1      0.995      0.698\n",
            "\n",
            "     Epoch   gpu_mem       box       obj       cls    labels  img_size\n",
            "     70/99     7.14G  0.009476   0.00426         0        30       640: 100% 23/23 [00:49<00:00,  2.14s/it]\n",
            "               Class     Images     Labels          P          R     mAP@.5 mAP@.5:.95: 100% 2/2 [00:01<00:00,  1.01it/s]\n",
            "                 all         90         90          1          1      0.995      0.691\n",
            "\n",
            "     Epoch   gpu_mem       box       obj       cls    labels  img_size\n",
            "     71/99     7.14G  0.009487  0.004318         0        31       640: 100% 23/23 [00:49<00:00,  2.14s/it]\n",
            "               Class     Images     Labels          P          R     mAP@.5 mAP@.5:.95: 100% 2/2 [00:01<00:00,  1.01it/s]\n",
            "                 all         90         90          1          1      0.995      0.705\n",
            "\n",
            "     Epoch   gpu_mem       box       obj       cls    labels  img_size\n",
            "     72/99     7.14G  0.009255  0.004368         0        32       640: 100% 23/23 [00:49<00:00,  2.14s/it]\n",
            "               Class     Images     Labels          P          R     mAP@.5 mAP@.5:.95: 100% 2/2 [00:01<00:00,  1.01it/s]\n",
            "                 all         90         90          1          1      0.995      0.701\n",
            "\n",
            "     Epoch   gpu_mem       box       obj       cls    labels  img_size\n",
            "     73/99     7.14G  0.009052  0.004281         0        31       640: 100% 23/23 [00:49<00:00,  2.14s/it]\n",
            "               Class     Images     Labels          P          R     mAP@.5 mAP@.5:.95: 100% 2/2 [00:01<00:00,  1.02it/s]\n",
            "                 all         90         90          1          1      0.995      0.694\n",
            "\n",
            "     Epoch   gpu_mem       box       obj       cls    labels  img_size\n",
            "     74/99     7.14G  0.009148  0.004267         0        32       640: 100% 23/23 [00:49<00:00,  2.14s/it]\n",
            "               Class     Images     Labels          P          R     mAP@.5 mAP@.5:.95: 100% 2/2 [00:01<00:00,  1.02it/s]\n",
            "                 all         90         90          1          1      0.995      0.671\n",
            "\n",
            "     Epoch   gpu_mem       box       obj       cls    labels  img_size\n",
            "     75/99     7.14G   0.00925  0.004477         0        42       640: 100% 23/23 [00:49<00:00,  2.14s/it]\n",
            "               Class     Images     Labels          P          R     mAP@.5 mAP@.5:.95: 100% 2/2 [00:01<00:00,  1.02it/s]\n",
            "                 all         90         90          1          1      0.995      0.714\n",
            "\n",
            "     Epoch   gpu_mem       box       obj       cls    labels  img_size\n",
            "     76/99     7.14G  0.008979   0.00418         0        28       640: 100% 23/23 [00:49<00:00,  2.14s/it]\n",
            "               Class     Images     Labels          P          R     mAP@.5 mAP@.5:.95: 100% 2/2 [00:01<00:00,  1.00it/s]\n",
            "                 all         90         90          1          1      0.995      0.701\n",
            "\n",
            "     Epoch   gpu_mem       box       obj       cls    labels  img_size\n",
            "     77/99     7.14G  0.008937  0.004274         0        31       640: 100% 23/23 [00:49<00:00,  2.14s/it]\n",
            "               Class     Images     Labels          P          R     mAP@.5 mAP@.5:.95: 100% 2/2 [00:01<00:00,  1.00it/s]\n",
            "                 all         90         90          1          1      0.995      0.705\n",
            "\n",
            "     Epoch   gpu_mem       box       obj       cls    labels  img_size\n",
            "     78/99     7.14G  0.009014  0.004421         0        27       640: 100% 23/23 [00:49<00:00,  2.14s/it]\n",
            "               Class     Images     Labels          P          R     mAP@.5 mAP@.5:.95: 100% 2/2 [00:01<00:00,  1.01it/s]\n",
            "                 all         90         90          1          1      0.995      0.703\n",
            "\n",
            "     Epoch   gpu_mem       box       obj       cls    labels  img_size\n",
            "     79/99     7.14G   0.00873  0.004284         0        27       640: 100% 23/23 [00:49<00:00,  2.14s/it]\n",
            "               Class     Images     Labels          P          R     mAP@.5 mAP@.5:.95: 100% 2/2 [00:01<00:00,  1.02it/s]\n",
            "                 all         90         90          1          1      0.995      0.705\n",
            "\n",
            "     Epoch   gpu_mem       box       obj       cls    labels  img_size\n",
            "     80/99     7.14G  0.008618  0.004077         0        25       640: 100% 23/23 [00:49<00:00,  2.13s/it]\n",
            "               Class     Images     Labels          P          R     mAP@.5 mAP@.5:.95: 100% 2/2 [00:01<00:00,  1.01it/s]\n",
            "                 all         90         90          1          1      0.995      0.706\n",
            "\n",
            "     Epoch   gpu_mem       box       obj       cls    labels  img_size\n",
            "     81/99     7.14G   0.00849  0.004092         0        27       640: 100% 23/23 [00:49<00:00,  2.14s/it]\n",
            "               Class     Images     Labels          P          R     mAP@.5 mAP@.5:.95: 100% 2/2 [00:01<00:00,  1.02it/s]\n",
            "                 all         90         90          1          1      0.995      0.702\n",
            "\n",
            "     Epoch   gpu_mem       box       obj       cls    labels  img_size\n",
            "     82/99     7.14G  0.008772  0.004188         0        33       640: 100% 23/23 [00:49<00:00,  2.14s/it]\n",
            "               Class     Images     Labels          P          R     mAP@.5 mAP@.5:.95: 100% 2/2 [00:01<00:00,  1.01it/s]\n",
            "                 all         90         90          1          1      0.995       0.71\n",
            "\n",
            "     Epoch   gpu_mem       box       obj       cls    labels  img_size\n",
            "     83/99     7.14G  0.008465  0.004433         0        47       640: 100% 23/23 [00:49<00:00,  2.14s/it]\n",
            "               Class     Images     Labels          P          R     mAP@.5 mAP@.5:.95: 100% 2/2 [00:01<00:00,  1.01it/s]\n",
            "                 all         90         90          1          1      0.995      0.715\n",
            "\n",
            "     Epoch   gpu_mem       box       obj       cls    labels  img_size\n",
            "     84/99     7.14G  0.008288  0.004028         0        34       640: 100% 23/23 [00:49<00:00,  2.14s/it]\n",
            "               Class     Images     Labels          P          R     mAP@.5 mAP@.5:.95: 100% 2/2 [00:01<00:00,  1.02it/s]\n",
            "                 all         90         90          1          1      0.995      0.708\n",
            "\n",
            "     Epoch   gpu_mem       box       obj       cls    labels  img_size\n",
            "     85/99     7.14G  0.008362   0.00426         0        36       640: 100% 23/23 [00:49<00:00,  2.14s/it]\n",
            "               Class     Images     Labels          P          R     mAP@.5 mAP@.5:.95: 100% 2/2 [00:01<00:00,  1.01it/s]\n",
            "                 all         90         90          1          1      0.995       0.71\n",
            "\n",
            "     Epoch   gpu_mem       box       obj       cls    labels  img_size\n",
            "     86/99     7.14G   0.00813  0.004202         0        38       640: 100% 23/23 [00:49<00:00,  2.14s/it]\n",
            "               Class     Images     Labels          P          R     mAP@.5 mAP@.5:.95: 100% 2/2 [00:01<00:00,  1.01it/s]\n",
            "                 all         90         90          1          1      0.995      0.717\n",
            "\n",
            "     Epoch   gpu_mem       box       obj       cls    labels  img_size\n",
            "     87/99     7.14G   0.00821    0.0041         0        28       640: 100% 23/23 [00:49<00:00,  2.14s/it]\n",
            "               Class     Images     Labels          P          R     mAP@.5 mAP@.5:.95: 100% 2/2 [00:01<00:00,  1.00it/s]\n",
            "                 all         90         90          1          1      0.995      0.693\n",
            "\n",
            "     Epoch   gpu_mem       box       obj       cls    labels  img_size\n",
            "     88/99     7.14G  0.008613  0.004326         0        29       640: 100% 23/23 [00:49<00:00,  2.14s/it]\n",
            "               Class     Images     Labels          P          R     mAP@.5 mAP@.5:.95: 100% 2/2 [00:01<00:00,  1.02it/s]\n",
            "                 all         90         90          1          1      0.995      0.707\n",
            "\n",
            "     Epoch   gpu_mem       box       obj       cls    labels  img_size\n",
            "     89/99     7.14G  0.008499  0.004151         0        32       640: 100% 23/23 [00:49<00:00,  2.14s/it]\n",
            "               Class     Images     Labels          P          R     mAP@.5 mAP@.5:.95: 100% 2/2 [00:01<00:00,  1.02it/s]\n",
            "                 all         90         90          1          1      0.995       0.71\n",
            "\n",
            "     Epoch   gpu_mem       box       obj       cls    labels  img_size\n",
            "     90/99     7.14G  0.008673  0.004279         0        36       640: 100% 23/23 [00:49<00:00,  2.14s/it]\n",
            "               Class     Images     Labels          P          R     mAP@.5 mAP@.5:.95: 100% 2/2 [00:01<00:00,  1.01it/s]\n",
            "                 all         90         90          1          1      0.995      0.714\n",
            "\n",
            "     Epoch   gpu_mem       box       obj       cls    labels  img_size\n",
            "     91/99     7.14G   0.00806  0.004093         0        38       640: 100% 23/23 [00:49<00:00,  2.14s/it]\n",
            "               Class     Images     Labels          P          R     mAP@.5 mAP@.5:.95: 100% 2/2 [00:01<00:00,  1.02it/s]\n",
            "                 all         90         90          1          1      0.995      0.717\n",
            "\n",
            "     Epoch   gpu_mem       box       obj       cls    labels  img_size\n",
            "     92/99     7.14G  0.008037  0.004153         0        35       640: 100% 23/23 [00:49<00:00,  2.14s/it]\n",
            "               Class     Images     Labels          P          R     mAP@.5 mAP@.5:.95: 100% 2/2 [00:01<00:00,  1.02it/s]\n",
            "                 all         90         90          1          1      0.995      0.708\n",
            "\n",
            "     Epoch   gpu_mem       box       obj       cls    labels  img_size\n",
            "     93/99     7.14G  0.008091  0.004279         0        45       640: 100% 23/23 [00:49<00:00,  2.14s/it]\n",
            "               Class     Images     Labels          P          R     mAP@.5 mAP@.5:.95: 100% 2/2 [00:01<00:00,  1.03it/s]\n",
            "                 all         90         90          1          1      0.995      0.717\n",
            "\n",
            "     Epoch   gpu_mem       box       obj       cls    labels  img_size\n",
            "     94/99     7.14G  0.007928  0.004173         0        34       640: 100% 23/23 [00:49<00:00,  2.14s/it]\n",
            "               Class     Images     Labels          P          R     mAP@.5 mAP@.5:.95: 100% 2/2 [00:01<00:00,  1.01it/s]\n",
            "                 all         90         90          1          1      0.995      0.708\n",
            "\n",
            "     Epoch   gpu_mem       box       obj       cls    labels  img_size\n",
            "     95/99     7.14G  0.008021  0.004214         0        24       640: 100% 23/23 [00:49<00:00,  2.14s/it]\n",
            "               Class     Images     Labels          P          R     mAP@.5 mAP@.5:.95: 100% 2/2 [00:01<00:00,  1.02it/s]\n",
            "                 all         90         90          1          1      0.995      0.706\n",
            "\n",
            "     Epoch   gpu_mem       box       obj       cls    labels  img_size\n",
            "     96/99     7.14G   0.00802  0.004282         0        32       640: 100% 23/23 [00:49<00:00,  2.14s/it]\n",
            "               Class     Images     Labels          P          R     mAP@.5 mAP@.5:.95: 100% 2/2 [00:01<00:00,  1.02it/s]\n",
            "                 all         90         90          1          1      0.995      0.724\n",
            "\n",
            "     Epoch   gpu_mem       box       obj       cls    labels  img_size\n",
            "     97/99     7.14G  0.008058  0.004203         0        20       640: 100% 23/23 [00:49<00:00,  2.14s/it]\n",
            "               Class     Images     Labels          P          R     mAP@.5 mAP@.5:.95: 100% 2/2 [00:01<00:00,  1.02it/s]\n",
            "                 all         90         90          1          1      0.995      0.723\n",
            "\n",
            "     Epoch   gpu_mem       box       obj       cls    labels  img_size\n",
            "     98/99     7.14G  0.008219  0.004243         0        37       640: 100% 23/23 [00:49<00:00,  2.14s/it]\n",
            "               Class     Images     Labels          P          R     mAP@.5 mAP@.5:.95: 100% 2/2 [00:01<00:00,  1.01it/s]\n",
            "                 all         90         90          1          1      0.995      0.717\n",
            "\n",
            "     Epoch   gpu_mem       box       obj       cls    labels  img_size\n",
            "     99/99     7.14G  0.008286  0.004206         0        24       640: 100% 23/23 [00:49<00:00,  2.14s/it]\n",
            "               Class     Images     Labels          P          R     mAP@.5 mAP@.5:.95: 100% 2/2 [00:01<00:00,  1.02it/s]\n",
            "                 all         90         90          1          1      0.995      0.712\n",
            "\n",
            "100 epochs completed in 1.436 hours.\n",
            "Optimizer stripped from runs/train/yolo_road_det4/weights/last.pt, 14.5MB\n",
            "Optimizer stripped from runs/train/yolo_road_det4/weights/best.pt, 14.5MB\n",
            "\n",
            "Validating runs/train/yolo_road_det4/weights/best.pt...\n",
            "Fusing layers... \n",
            "Model Summary: 213 layers, 7012822 parameters, 0 gradients, 15.8 GFLOPs\n",
            "               Class     Images     Labels          P          R     mAP@.5 mAP@.5:.95: 100% 2/2 [00:03<00:00,  1.51s/it]\n",
            "                 all         90         90          1          1      0.995      0.725\n",
            "Results saved to \u001b[1mruns/train/yolo_road_det4\u001b[0m\n"
          ]
        }
      ]
    },
    {
      "cell_type": "code",
      "source": [
        "!zip -r temp.zip /content/yolov5/runs/train/yolo_road_det4\n",
        "shutil.copy(\"/content/yolov5/runs/train/temp.zip\",\"/content/drive/MyDrive\")"
      ],
      "metadata": {
        "colab": {
          "base_uri": "https://localhost:8080/",
          "height": 726
        },
        "id": "SKIvx7ZUvJWs",
        "outputId": "5deff55f-666c-4a03-d886-5120e0ad9574"
      },
      "execution_count": null,
      "outputs": [
        {
          "output_type": "stream",
          "name": "stdout",
          "text": [
            "updating: content/yolov5/runs/train/yolo_road_det4/ (stored 0%)\n",
            "updating: content/yolov5/runs/train/yolo_road_det4/events.out.tfevents.1646183643.db74ebf8ca5c.502.0 (deflated 47%)\n",
            "updating: content/yolov5/runs/train/yolo_road_det4/train_batch2.jpg (deflated 10%)\n",
            "updating: content/yolov5/runs/train/yolo_road_det4/train_batch1.jpg (deflated 18%)\n",
            "updating: content/yolov5/runs/train/yolo_road_det4/results.csv (deflated 87%)\n",
            "updating: content/yolov5/runs/train/yolo_road_det4/hyp.yaml (deflated 43%)\n",
            "updating: content/yolov5/runs/train/yolo_road_det4/val_batch0_labels.jpg (deflated 22%)\n",
            "updating: content/yolov5/runs/train/yolo_road_det4/train_batch0.jpg (deflated 12%)\n",
            "updating: content/yolov5/runs/train/yolo_road_det4/labels.jpg (deflated 33%)\n",
            "updating: content/yolov5/runs/train/yolo_road_det4/val_batch0_pred.jpg (deflated 21%)\n",
            "updating: content/yolov5/runs/train/yolo_road_det4/F1_curve.png (deflated 21%)\n",
            "updating: content/yolov5/runs/train/yolo_road_det4/R_curve.png (deflated 21%)\n",
            "updating: content/yolov5/runs/train/yolo_road_det4/val_batch1_labels.jpg (deflated 22%)\n",
            "updating: content/yolov5/runs/train/yolo_road_det4/PR_curve.png (deflated 31%)\n",
            "updating: content/yolov5/runs/train/yolo_road_det4/P_curve.png (deflated 28%)\n",
            "updating: content/yolov5/runs/train/yolo_road_det4/results.png (deflated 12%)\n",
            "updating: content/yolov5/runs/train/yolo_road_det4/labels_correlogram.jpg (deflated 41%)\n",
            "updating: content/yolov5/runs/train/yolo_road_det4/confusion_matrix.png (deflated 41%)\n",
            "updating: content/yolov5/runs/train/yolo_road_det4/weights/ (stored 0%)\n",
            "updating: content/yolov5/runs/train/yolo_road_det4/weights/best.pt (deflated 9%)\n",
            "updating: content/yolov5/runs/train/yolo_road_det4/weights/last.pt (deflated 9%)\n",
            "updating: content/yolov5/runs/train/yolo_road_det4/val_batch1_pred.jpg (deflated 21%)\n",
            "updating: content/yolov5/runs/train/yolo_road_det4/opt.yaml (deflated 45%)\n"
          ]
        },
        {
          "output_type": "error",
          "ename": "FileNotFoundError",
          "evalue": "ignored",
          "traceback": [
            "\u001b[0;31m---------------------------------------------------------------------------\u001b[0m",
            "\u001b[0;31mFileNotFoundError\u001b[0m                         Traceback (most recent call last)",
            "\u001b[0;32m<ipython-input-28-517f1e4b3255>\u001b[0m in \u001b[0;36m<module>\u001b[0;34m()\u001b[0m\n\u001b[1;32m      1\u001b[0m \u001b[0mget_ipython\u001b[0m\u001b[0;34m(\u001b[0m\u001b[0;34m)\u001b[0m\u001b[0;34m.\u001b[0m\u001b[0msystem\u001b[0m\u001b[0;34m(\u001b[0m\u001b[0;34m'zip -r temp.zip /content/yolov5/runs/train/yolo_road_det4'\u001b[0m\u001b[0;34m)\u001b[0m\u001b[0;34m\u001b[0m\u001b[0;34m\u001b[0m\u001b[0m\n\u001b[0;32m----> 2\u001b[0;31m \u001b[0mshutil\u001b[0m\u001b[0;34m.\u001b[0m\u001b[0mcopy\u001b[0m\u001b[0;34m(\u001b[0m\u001b[0;34m\"/content/yolov5/runs/train/temp.zip\"\u001b[0m\u001b[0;34m,\u001b[0m\u001b[0;34m\"/content/drive/MyDrive\"\u001b[0m\u001b[0;34m)\u001b[0m\u001b[0;34m\u001b[0m\u001b[0;34m\u001b[0m\u001b[0m\n\u001b[0m",
            "\u001b[0;32m/usr/lib/python3.7/shutil.py\u001b[0m in \u001b[0;36mcopy\u001b[0;34m(src, dst, follow_symlinks)\u001b[0m\n\u001b[1;32m    246\u001b[0m     \u001b[0;32mif\u001b[0m \u001b[0mos\u001b[0m\u001b[0;34m.\u001b[0m\u001b[0mpath\u001b[0m\u001b[0;34m.\u001b[0m\u001b[0misdir\u001b[0m\u001b[0;34m(\u001b[0m\u001b[0mdst\u001b[0m\u001b[0;34m)\u001b[0m\u001b[0;34m:\u001b[0m\u001b[0;34m\u001b[0m\u001b[0;34m\u001b[0m\u001b[0m\n\u001b[1;32m    247\u001b[0m         \u001b[0mdst\u001b[0m \u001b[0;34m=\u001b[0m \u001b[0mos\u001b[0m\u001b[0;34m.\u001b[0m\u001b[0mpath\u001b[0m\u001b[0;34m.\u001b[0m\u001b[0mjoin\u001b[0m\u001b[0;34m(\u001b[0m\u001b[0mdst\u001b[0m\u001b[0;34m,\u001b[0m \u001b[0mos\u001b[0m\u001b[0;34m.\u001b[0m\u001b[0mpath\u001b[0m\u001b[0;34m.\u001b[0m\u001b[0mbasename\u001b[0m\u001b[0;34m(\u001b[0m\u001b[0msrc\u001b[0m\u001b[0;34m)\u001b[0m\u001b[0;34m)\u001b[0m\u001b[0;34m\u001b[0m\u001b[0;34m\u001b[0m\u001b[0m\n\u001b[0;32m--> 248\u001b[0;31m     \u001b[0mcopyfile\u001b[0m\u001b[0;34m(\u001b[0m\u001b[0msrc\u001b[0m\u001b[0;34m,\u001b[0m \u001b[0mdst\u001b[0m\u001b[0;34m,\u001b[0m \u001b[0mfollow_symlinks\u001b[0m\u001b[0;34m=\u001b[0m\u001b[0mfollow_symlinks\u001b[0m\u001b[0;34m)\u001b[0m\u001b[0;34m\u001b[0m\u001b[0;34m\u001b[0m\u001b[0m\n\u001b[0m\u001b[1;32m    249\u001b[0m     \u001b[0mcopymode\u001b[0m\u001b[0;34m(\u001b[0m\u001b[0msrc\u001b[0m\u001b[0;34m,\u001b[0m \u001b[0mdst\u001b[0m\u001b[0;34m,\u001b[0m \u001b[0mfollow_symlinks\u001b[0m\u001b[0;34m=\u001b[0m\u001b[0mfollow_symlinks\u001b[0m\u001b[0;34m)\u001b[0m\u001b[0;34m\u001b[0m\u001b[0;34m\u001b[0m\u001b[0m\n\u001b[1;32m    250\u001b[0m     \u001b[0;32mreturn\u001b[0m \u001b[0mdst\u001b[0m\u001b[0;34m\u001b[0m\u001b[0;34m\u001b[0m\u001b[0m\n",
            "\u001b[0;32m/usr/lib/python3.7/shutil.py\u001b[0m in \u001b[0;36mcopyfile\u001b[0;34m(src, dst, follow_symlinks)\u001b[0m\n\u001b[1;32m    118\u001b[0m         \u001b[0mos\u001b[0m\u001b[0;34m.\u001b[0m\u001b[0msymlink\u001b[0m\u001b[0;34m(\u001b[0m\u001b[0mos\u001b[0m\u001b[0;34m.\u001b[0m\u001b[0mreadlink\u001b[0m\u001b[0;34m(\u001b[0m\u001b[0msrc\u001b[0m\u001b[0;34m)\u001b[0m\u001b[0;34m,\u001b[0m \u001b[0mdst\u001b[0m\u001b[0;34m)\u001b[0m\u001b[0;34m\u001b[0m\u001b[0;34m\u001b[0m\u001b[0m\n\u001b[1;32m    119\u001b[0m     \u001b[0;32melse\u001b[0m\u001b[0;34m:\u001b[0m\u001b[0;34m\u001b[0m\u001b[0;34m\u001b[0m\u001b[0m\n\u001b[0;32m--> 120\u001b[0;31m         \u001b[0;32mwith\u001b[0m \u001b[0mopen\u001b[0m\u001b[0;34m(\u001b[0m\u001b[0msrc\u001b[0m\u001b[0;34m,\u001b[0m \u001b[0;34m'rb'\u001b[0m\u001b[0;34m)\u001b[0m \u001b[0;32mas\u001b[0m \u001b[0mfsrc\u001b[0m\u001b[0;34m:\u001b[0m\u001b[0;34m\u001b[0m\u001b[0;34m\u001b[0m\u001b[0m\n\u001b[0m\u001b[1;32m    121\u001b[0m             \u001b[0;32mwith\u001b[0m \u001b[0mopen\u001b[0m\u001b[0;34m(\u001b[0m\u001b[0mdst\u001b[0m\u001b[0;34m,\u001b[0m \u001b[0;34m'wb'\u001b[0m\u001b[0;34m)\u001b[0m \u001b[0;32mas\u001b[0m \u001b[0mfdst\u001b[0m\u001b[0;34m:\u001b[0m\u001b[0;34m\u001b[0m\u001b[0;34m\u001b[0m\u001b[0m\n\u001b[1;32m    122\u001b[0m                 \u001b[0mcopyfileobj\u001b[0m\u001b[0;34m(\u001b[0m\u001b[0mfsrc\u001b[0m\u001b[0;34m,\u001b[0m \u001b[0mfdst\u001b[0m\u001b[0;34m)\u001b[0m\u001b[0;34m\u001b[0m\u001b[0;34m\u001b[0m\u001b[0m\n",
            "\u001b[0;31mFileNotFoundError\u001b[0m: [Errno 2] No such file or directory: '/content/yolov5/runs/train/temp.zip'"
          ]
        }
      ]
    },
    {
      "cell_type": "markdown",
      "source": [
        "#İnference"
      ],
      "metadata": {
        "id": "0ptbEFuFQO3v"
      }
    },
    {
      "cell_type": "code",
      "source": [
        "!python detect.py --source /content/yolov5/images/test --weights /content/yolov5/runs/train/yolo_road_det4/weights/best.pt --conf 0.25 --name yolo_road_det"
      ],
      "metadata": {
        "id": "pyMzeWqjQTgo",
        "colab": {
          "base_uri": "https://localhost:8080/"
        },
        "outputId": "44a03d58-a78c-417b-fb24-a0355a7c4c1b"
      },
      "execution_count": null,
      "outputs": [
        {
          "output_type": "stream",
          "name": "stdout",
          "text": [
            "\u001b[34m\u001b[1mdetect: \u001b[0mweights=['/content/yolov5/runs/train/yolo_road_det4/weights/best.pt'], source=/content/yolov5/images/test, data=data/coco128.yaml, imgsz=[640, 640], conf_thres=0.25, iou_thres=0.45, max_det=1000, device=, view_img=False, save_txt=False, save_conf=False, save_crop=False, nosave=False, classes=None, agnostic_nms=False, augment=False, visualize=False, update=False, project=runs/detect, name=yolo_road_det, exist_ok=False, line_thickness=3, hide_labels=False, hide_conf=False, half=False, dnn=False\n",
            "YOLOv5 🚀 v6.1-11-g63ddb6f torch 1.10.0+cu111 CUDA:0 (Tesla K80, 11441MiB)\n",
            "\n",
            "Fusing layers... \n",
            "Model Summary: 213 layers, 7012822 parameters, 0 gradients, 15.8 GFLOPs\n",
            "image 1/91 /content/yolov5/images/test/3_labeling1006.jpg: 640x640 1 hedef, Done. (0.034s)\n",
            "image 2/91 /content/yolov5/images/test/3_labeling1016.jpg: 640x640 1 hedef, Done. (0.034s)\n",
            "image 3/91 /content/yolov5/images/test/3_labeling1034.jpg: 640x640 1 hedef, Done. (0.034s)\n",
            "image 4/91 /content/yolov5/images/test/3_labeling1042.jpg: 640x640 1 hedef, Done. (0.033s)\n",
            "image 5/91 /content/yolov5/images/test/3_labeling1048.jpg: 640x640 1 hedef, Done. (0.034s)\n",
            "image 6/91 /content/yolov5/images/test/3_labeling1058.jpg: 640x640 1 hedef, Done. (0.033s)\n",
            "image 7/91 /content/yolov5/images/test/3_labeling122.jpg: 640x640 1 hedef, Done. (0.030s)\n",
            "image 8/91 /content/yolov5/images/test/3_labeling126.jpg: 640x640 1 hedef, Done. (0.030s)\n",
            "image 9/91 /content/yolov5/images/test/3_labeling128.jpg: 640x640 1 hedef, Done. (0.030s)\n",
            "image 10/91 /content/yolov5/images/test/3_labeling152.jpg: 640x640 1 hedef, Done. (0.030s)\n",
            "image 11/91 /content/yolov5/images/test/3_labeling162.jpg: 640x640 1 hedef, Done. (0.028s)\n",
            "image 12/91 /content/yolov5/images/test/3_labeling18.jpg: 640x640 1 hedef, Done. (0.028s)\n",
            "image 13/91 /content/yolov5/images/test/3_labeling206.jpg: 640x640 1 hedef, Done. (0.028s)\n",
            "image 14/91 /content/yolov5/images/test/3_labeling218.jpg: 640x640 1 hedef, Done. (0.028s)\n",
            "image 15/91 /content/yolov5/images/test/3_labeling336.jpg: 640x640 1 hedef, Done. (0.026s)\n",
            "image 16/91 /content/yolov5/images/test/3_labeling348.jpg: 640x640 1 hedef, Done. (0.025s)\n",
            "image 17/91 /content/yolov5/images/test/3_labeling362.jpg: 640x640 1 hedef, Done. (0.025s)\n",
            "image 18/91 /content/yolov5/images/test/3_labeling374.jpg: 640x640 1 hedef, Done. (0.025s)\n",
            "image 19/91 /content/yolov5/images/test/3_labeling408.jpg: 640x640 1 hedef, Done. (0.025s)\n",
            "image 20/91 /content/yolov5/images/test/3_labeling42.jpg: 640x640 1 hedef, Done. (0.025s)\n",
            "image 21/91 /content/yolov5/images/test/3_labeling422.jpg: 640x640 1 hedef, Done. (0.023s)\n",
            "image 22/91 /content/yolov5/images/test/3_labeling44.jpg: 640x640 1 hedef, Done. (0.023s)\n",
            "image 23/91 /content/yolov5/images/test/3_labeling466.jpg: 640x640 1 hedef, Done. (0.023s)\n",
            "image 24/91 /content/yolov5/images/test/3_labeling502.jpg: 640x640 1 hedef, Done. (0.023s)\n",
            "image 25/91 /content/yolov5/images/test/3_labeling518.jpg: 640x640 1 hedef, Done. (0.023s)\n",
            "image 26/91 /content/yolov5/images/test/3_labeling528.jpg: 640x640 1 hedef, Done. (0.023s)\n",
            "image 27/91 /content/yolov5/images/test/3_labeling546.jpg: 640x640 1 hedef, Done. (0.022s)\n",
            "image 28/91 /content/yolov5/images/test/3_labeling58.jpg: 640x640 1 hedef, Done. (0.022s)\n",
            "image 29/91 /content/yolov5/images/test/3_labeling638.jpg: 640x640 1 hedef, Done. (0.023s)\n",
            "image 30/91 /content/yolov5/images/test/3_labeling74.jpg: 640x640 1 hedef, Done. (0.023s)\n",
            "image 31/91 /content/yolov5/images/test/3_labeling754.jpg: 640x640 1 hedef, Done. (0.023s)\n",
            "image 32/91 /content/yolov5/images/test/3_labeling758.jpg: 640x640 1 hedef, Done. (0.023s)\n",
            "image 33/91 /content/yolov5/images/test/3_labeling768.jpg: 640x640 1 hedef, Done. (0.022s)\n",
            "image 34/91 /content/yolov5/images/test/3_labeling824.jpg: 640x640 1 hedef, Done. (0.022s)\n",
            "image 35/91 /content/yolov5/images/test/3_labeling922.jpg: 640x640 1 hedef, Done. (0.023s)\n",
            "image 36/91 /content/yolov5/images/test/3_labeling932.jpg: 640x640 1 hedef, Done. (0.023s)\n",
            "image 37/91 /content/yolov5/images/test/3_labeling936.jpg: 640x640 1 hedef, Done. (0.022s)\n",
            "image 38/91 /content/yolov5/images/test/3_labeling994.jpg: 640x640 1 hedef, Done. (0.023s)\n",
            "image 39/91 /content/yolov5/images/test/rotated104.jpg: 640x640 1 hedef, Done. (0.023s)\n",
            "image 40/91 /content/yolov5/images/test/rotated115.jpg: 640x640 1 hedef, Done. (0.023s)\n",
            "image 41/91 /content/yolov5/images/test/rotated116.jpg: 640x640 1 hedef, Done. (0.023s)\n",
            "image 42/91 /content/yolov5/images/test/rotated119.jpg: 640x640 1 hedef, Done. (0.023s)\n",
            "image 43/91 /content/yolov5/images/test/rotated12.jpg: 640x640 1 hedef, Done. (0.023s)\n",
            "image 44/91 /content/yolov5/images/test/rotated13.jpg: 640x640 1 hedef, Done. (0.023s)\n",
            "image 45/91 /content/yolov5/images/test/rotated132.jpg: 640x640 1 hedef, Done. (0.023s)\n",
            "image 46/91 /content/yolov5/images/test/rotated139.jpg: 640x640 1 hedef, Done. (0.023s)\n",
            "image 47/91 /content/yolov5/images/test/rotated144.jpg: 640x640 1 hedef, Done. (0.023s)\n",
            "image 48/91 /content/yolov5/images/test/rotated156.jpg: 640x640 1 hedef, Done. (0.023s)\n",
            "image 49/91 /content/yolov5/images/test/rotated157.jpg: 640x640 1 hedef, Done. (0.023s)\n",
            "image 50/91 /content/yolov5/images/test/rotated186.jpg: 640x640 1 hedef, Done. (0.023s)\n",
            "image 51/91 /content/yolov5/images/test/rotated19.jpg: 640x640 1 hedef, Done. (0.023s)\n",
            "image 52/91 /content/yolov5/images/test/rotated191.jpg: 640x640 1 hedef, Done. (0.023s)\n",
            "image 53/91 /content/yolov5/images/test/rotated201.jpg: 640x640 1 hedef, Done. (0.023s)\n",
            "image 54/91 /content/yolov5/images/test/rotated22.jpg: 640x640 1 hedef, Done. (0.023s)\n",
            "image 55/91 /content/yolov5/images/test/rotated253.jpg: 640x640 1 hedef, Done. (0.023s)\n",
            "image 56/91 /content/yolov5/images/test/rotated260.jpg: 640x640 1 hedef, Done. (0.023s)\n",
            "image 57/91 /content/yolov5/images/test/rotated27.jpg: 640x640 1 hedef, Done. (0.023s)\n",
            "image 58/91 /content/yolov5/images/test/rotated275.jpg: 640x640 1 hedef, Done. (0.022s)\n",
            "image 59/91 /content/yolov5/images/test/rotated284.jpg: 640x640 1 hedef, Done. (0.023s)\n",
            "image 60/91 /content/yolov5/images/test/rotated286.jpg: 640x640 1 hedef, Done. (0.023s)\n",
            "image 61/91 /content/yolov5/images/test/rotated288.jpg: 640x640 1 hedef, Done. (0.023s)\n",
            "image 62/91 /content/yolov5/images/test/rotated308.jpg: 640x640 1 hedef, Done. (0.023s)\n",
            "image 63/91 /content/yolov5/images/test/rotated318.jpg: 640x640 1 hedef, Done. (0.022s)\n",
            "image 64/91 /content/yolov5/images/test/rotated325.jpg: 640x640 1 hedef, Done. (0.023s)\n",
            "image 65/91 /content/yolov5/images/test/rotated33.jpg: 640x640 1 hedef, Done. (0.023s)\n",
            "image 66/91 /content/yolov5/images/test/rotated332.jpg: 640x640 1 hedef, Done. (0.022s)\n",
            "image 67/91 /content/yolov5/images/test/rotated336.jpg: 640x640 1 hedef, Done. (0.022s)\n",
            "image 68/91 /content/yolov5/images/test/rotated344.jpg: 640x640 1 hedef, Done. (0.023s)\n",
            "image 69/91 /content/yolov5/images/test/rotated358.jpg: 640x640 1 hedef, Done. (0.023s)\n",
            "image 70/91 /content/yolov5/images/test/rotated363.jpg: 640x640 1 hedef, Done. (0.023s)\n",
            "image 71/91 /content/yolov5/images/test/rotated38.jpg: 640x640 1 hedef, Done. (0.023s)\n",
            "image 72/91 /content/yolov5/images/test/rotated380.jpg: 640x640 1 hedef, Done. (0.023s)\n",
            "image 73/91 /content/yolov5/images/test/rotated390.jpg: 640x640 1 hedef, Done. (0.023s)\n",
            "image 74/91 /content/yolov5/images/test/rotated420.jpg: 640x640 1 hedef, Done. (0.023s)\n",
            "image 75/91 /content/yolov5/images/test/rotated550.jpg: 640x640 1 hedef, Done. (0.022s)\n",
            "image 76/91 /content/yolov5/images/test/rotated56.jpg: 640x640 1 hedef, Done. (0.023s)\n",
            "image 77/91 /content/yolov5/images/test/rotated565.jpg: 640x640 1 hedef, Done. (0.023s)\n",
            "image 78/91 /content/yolov5/images/test/rotated59.jpg: 640x640 1 hedef, Done. (0.023s)\n",
            "image 79/91 /content/yolov5/images/test/rotated625.jpg: 640x640 1 hedef, Done. (0.023s)\n",
            "image 80/91 /content/yolov5/images/test/rotated655.jpg: 640x640 1 hedef, Done. (0.023s)\n",
            "image 81/91 /content/yolov5/images/test/rotated670.jpg: 640x640 1 hedef, Done. (0.023s)\n",
            "image 82/91 /content/yolov5/images/test/rotated680.jpg: 640x640 1 hedef, Done. (0.023s)\n",
            "image 83/91 /content/yolov5/images/test/rotated765.jpg: 640x640 1 hedef, Done. (0.023s)\n",
            "image 84/91 /content/yolov5/images/test/rotated780.jpg: 640x640 1 hedef, Done. (0.023s)\n",
            "image 85/91 /content/yolov5/images/test/rotated790.jpg: 640x640 1 hedef, Done. (0.023s)\n",
            "image 86/91 /content/yolov5/images/test/rotated800.jpg: 640x640 1 hedef, Done. (0.023s)\n",
            "image 87/91 /content/yolov5/images/test/rotated835.jpg: 640x640 1 hedef, Done. (0.022s)\n",
            "image 88/91 /content/yolov5/images/test/rotated870.jpg: 640x640 1 hedef, Done. (0.023s)\n",
            "image 89/91 /content/yolov5/images/test/rotated930.jpg: 640x640 1 hedef, Done. (0.023s)\n",
            "image 90/91 /content/yolov5/images/test/rotated935.jpg: 640x640 1 hedef, Done. (0.023s)\n",
            "image 91/91 /content/yolov5/images/test/rotated945.jpg: 640x640 1 hedef, Done. (0.023s)\n",
            "Speed: 0.5ms pre-process, 24.1ms inference, 1.5ms NMS per image at shape (1, 3, 640, 640)\n",
            "Results saved to \u001b[1mruns/detect/yolo_road_det10\u001b[0m\n"
          ]
        }
      ]
    },
    {
      "cell_type": "code",
      "source": [
        "#Test kümesinden rastgele bir veriyi görelim\n",
        "detections_dir = \"runs/detect/yolo_road_det10/\"\n",
        "detection_images = [os.path.join(detections_dir, x) for x in os.listdir(detections_dir)]\n",
        "\n",
        "random_detection_image = Image.open(random.choice(detection_images))\n",
        "plt.imshow(np.array(random_detection_image))"
      ],
      "metadata": {
        "colab": {
          "base_uri": "https://localhost:8080/",
          "height": 285
        },
        "id": "n_vJW9RZU216",
        "outputId": "82fd50ce-30ac-4e2c-b3f0-f9a7c28b12a6"
      },
      "execution_count": null,
      "outputs": [
        {
          "output_type": "execute_result",
          "data": {
            "text/plain": [
              "<matplotlib.image.AxesImage at 0x7f6ee5eb2bd0>"
            ]
          },
          "metadata": {},
          "execution_count": 44
        },
        {
          "output_type": "display_data",
          "data": {
            "image/png": "[encoded data removed]",
            "text/plain": [
              "<Figure size 432x288 with 1 Axes>"
            ]
          },
          "metadata": {
            "needs_background": "light"
          }
        }
      ]
    },
    {
      "cell_type": "code",
      "source": [
        "#Bütün Test Verisetinin Başarımı Bir bakıma Modelin Başarımının İncelenmesi\n",
        "!python test.py --weights runs/train/yolo_road_det/weights/best.pt --data road_sign_data.yaml --task test --name yolo_det"
      ],
      "metadata": {
        "colab": {
          "base_uri": "https://localhost:8080/"
        },
        "id": "snpA9BdIVDL2",
        "outputId": "6f365cf3-fb7a-45c4-ab15-50d116c7a577"
      },
      "execution_count": null,
      "outputs": [
        {
          "output_type": "stream",
          "name": "stdout",
          "text": [
            "python3: can't open file 'test.py': [Errno 2] No such file or directory\n"
          ]
        }
      ]
    },
    {
      "cell_type": "code",
      "source": [
        ""
      ],
      "metadata": {
        "id": "lQgI_k5yw3Cf"
      },
      "execution_count": null,
      "outputs": []
    }
  ]
}