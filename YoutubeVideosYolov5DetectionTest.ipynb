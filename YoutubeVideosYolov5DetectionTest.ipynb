{
  "cells": [
    {
      "cell_type": "code",
      "execution_count": null,
      "metadata": {
        "id": "p8NAqVYTCPIN"
      },
      "outputs": [],
      "source": [
        "import shutil\n",
        "shutil.copy(\"/content/drive/MyDrive/yolov5Test.zip\",\"/content/\")"
      ]
    },
    {
      "cell_type": "code",
      "execution_count": null,
      "metadata": {
        "id": "EpxMUmSQC93a"
      },
      "outputs": [],
      "source": [
        "!unzip -qq yolov5Test.zip\n",
        "!rm -r yolov5Test.zip"
      ]
    },
    {
      "cell_type": "code",
      "execution_count": null,
      "metadata": {
        "id": "K1vFKZPYDb4q"
      },
      "outputs": [],
      "source": [
        "!mkdir Test\n",
        "%cd Test\n",
        "#!gdown https://drive.google.com/uc?id=1E6ZEeZdf6pbqQYmNe62VrKz4PWAi_s5O"
      ]
    },
    {
      "cell_type": "code",
      "execution_count": null,
      "metadata": {
        "id": "KB8KPkjrJooi"
      },
      "outputs": [],
      "source": [
        "!pip install pytube"
      ]
    },
    {
      "cell_type": "code",
      "execution_count": null,
      "metadata": {
        "id": "d_akGL5zHX6a"
      },
      "outputs": [],
      "source": [
        "from pytube import YouTube\n",
        "import os"
      ]
    },
    {
      "cell_type": "code",
      "execution_count": null,
      "metadata": {
        "id": "jJTKGEP7JxWn"
      },
      "outputs": [],
      "source": [
        "def downloadYouTube(videourl, path):\n",
        "\n",
        "    yt = YouTube(videourl)\n",
        "    yt = yt.streams.filter(progressive=True, file_extension='mp4').order_by('resolution').desc().first()\n",
        "    if not os.path.exists(path):\n",
        "        os.makedirs(path)\n",
        "    yt.download(path)"
      ]
    },
    {
      "cell_type": "code",
      "execution_count": null,
      "metadata": {
        "id": "v3QUf_l7KjXd"
      },
      "outputs": [],
      "source": [
        "Youtube_Link = \"https://www.youtube.com/watch?v=6CVL39fo7p4\"\n",
        "Video_Name = \"/content/Test/Drone  Busy Traffic   Drone ile Yoğun trafik çekimi 4K.mp4\""
      ]
    },
    {
      "cell_type": "code",
      "execution_count": null,
      "metadata": {
        "id": "X-pDVHaxJoGN"
      },
      "outputs": [],
      "source": [
        "downloadYouTube(Youtube_Link,\"/content/Test\")"
      ]
    },
    {
      "cell_type": "code",
      "execution_count": null,
      "metadata": {
        "id": "5wkeralSJ2A9"
      },
      "outputs": [],
      "source": [
        "%cd .."
      ]
    },
    {
      "cell_type": "code",
      "execution_count": null,
      "metadata": {
        "id": "oYjZKK4bJ5i3"
      },
      "outputs": [],
      "source": [
        "os.rename(Video_Name,\"/content/Test/test.mp4\")"
      ]
    },
    {
      "cell_type": "code",
      "execution_count": null,
      "metadata": {
        "id": "HcT3BGpfF6FI"
      },
      "outputs": [],
      "source": [
        "!pip install -r requirements.txt"
      ]
    },
    {
      "cell_type": "code",
      "execution_count": null,
      "metadata": {
        "id": "O7GAuVxIFc76"
      },
      "outputs": [],
      "source": [
        "!python detect.py --source /content/Test/test.mp4 --weights runs/train/2021_uyz/weights/best.pt --conf 0.25 --name ilkdeneme"
      ]
    },
    {
      "cell_type": "code",
      "execution_count": null,
      "metadata": {
        "id": "9qhEDhm-MpI9"
      },
      "outputs": [],
      "source": [
        "shutil.copy(\"/content/runs/detect/ilkdeneme/test.mp4\",\"/content/drive/MyDrive\")\n",
        "#videoyu kendi drivemizda görebilirsiniz arkadaşlar"
      ]
    },
    {
      "cell_type": "code",
      "source": [
        ""
      ],
      "metadata": {
        "id": "risLSfd5kCgl"
      },
      "execution_count": null,
      "outputs": []
    }
  ],
  "metadata": {
    "accelerator": "GPU",
    "colab": {
      "collapsed_sections": [],
      "name": "YoutubeVideosYolov5DetectionTest.ipynb",
      "provenance": []
    },
    "kernelspec": {
      "display_name": "Python 3",
      "name": "python3"
    },
    "language_info": {
      "name": "python"
    }
  },
  "nbformat": 4,
  "nbformat_minor": 0
}